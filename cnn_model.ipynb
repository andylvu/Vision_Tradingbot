{
 "cells": [
  {
   "cell_type": "markdown",
   "metadata": {},
   "source": [
    "import required libraries for this model"
   ]
  },
  {
   "cell_type": "code",
   "execution_count": 1,
   "metadata": {},
   "outputs": [],
   "source": [
    "import sqlite3\n",
    "import numpy as np\n",
    "import cv2\n",
    "from PIL import Image\n",
    "from io import BytesIO\n",
    "import tensorflow as tf\n",
    "from tensorflow.keras.layers import Dense, Input\n",
    "from sklearn.preprocessing import LabelEncoder\n",
    "from tensorflow.keras.utils import to_categorical\n",
    "from sklearn.metrics import classification_report, confusion_matrix, roc_curve, auc, precision_recall_curve\n",
    "import pandas as pd\n",
    "from sklearn.model_selection import train_test_split\n",
    "import matplotlib.pyplot as plt\n",
    "import seaborn as sns"
   ]
  },
  {
   "cell_type": "markdown",
   "metadata": {},
   "source": [
    "check version of tensorflow to be compatible with version on google colab"
   ]
  },
  {
   "cell_type": "code",
   "execution_count": 2,
   "metadata": {},
   "outputs": [
    {
     "name": "stdout",
     "output_type": "stream",
     "text": [
      "2.16.1\n"
     ]
    }
   ],
   "source": [
    "print(tf.__version__)"
   ]
  },
  {
   "cell_type": "markdown",
   "metadata": {},
   "source": [
    "make connection to local database for training data. \n",
    "No need to host on RDS because once model is trained, no longer need dataset."
   ]
  },
  {
   "cell_type": "code",
   "execution_count": 3,
   "metadata": {},
   "outputs": [],
   "source": [
    "conn = sqlite3.connect('C:/Users/Andy/Documents/vscode/Vision_Tradingbot/andy/trading_data.db')"
   ]
  },
  {
   "cell_type": "markdown",
   "metadata": {},
   "source": [
    "pull from sqlite3 database to create dataframe for the dataset"
   ]
  },
  {
   "cell_type": "code",
   "execution_count": 4,
   "metadata": {},
   "outputs": [
    {
     "data": {
      "text/html": [
       "<div>\n",
       "<style scoped>\n",
       "    .dataframe tbody tr th:only-of-type {\n",
       "        vertical-align: middle;\n",
       "    }\n",
       "\n",
       "    .dataframe tbody tr th {\n",
       "        vertical-align: top;\n",
       "    }\n",
       "\n",
       "    .dataframe thead th {\n",
       "        text-align: right;\n",
       "    }\n",
       "</style>\n",
       "<table border=\"1\" class=\"dataframe\">\n",
       "  <thead>\n",
       "    <tr style=\"text-align: right;\">\n",
       "      <th></th>\n",
       "      <th>id</th>\n",
       "      <th>image_data</th>\n",
       "      <th>tradable</th>\n",
       "      <th>trend</th>\n",
       "      <th>phase</th>\n",
       "      <th>after</th>\n",
       "    </tr>\n",
       "  </thead>\n",
       "  <tbody>\n",
       "    <tr>\n",
       "      <th>0</th>\n",
       "      <td>5</td>\n",
       "      <td>b'\\x89PNG\\r\\n\\x1a\\n\\x00\\x00\\x00\\rIHDR\\x00\\x00\\...</td>\n",
       "      <td>yes</td>\n",
       "      <td>up</td>\n",
       "      <td>pullback</td>\n",
       "      <td>continues pull back</td>\n",
       "    </tr>\n",
       "    <tr>\n",
       "      <th>1</th>\n",
       "      <td>6</td>\n",
       "      <td>b'\\x89PNG\\r\\n\\x1a\\n\\x00\\x00\\x00\\rIHDR\\x00\\x00\\...</td>\n",
       "      <td>yes</td>\n",
       "      <td>down</td>\n",
       "      <td>pullback</td>\n",
       "      <td>continues trend</td>\n",
       "    </tr>\n",
       "    <tr>\n",
       "      <th>2</th>\n",
       "      <td>7</td>\n",
       "      <td>b'\\x89PNG\\r\\n\\x1a\\n\\x00\\x00\\x00\\rIHDR\\x00\\x00\\...</td>\n",
       "      <td>yes</td>\n",
       "      <td>down</td>\n",
       "      <td>pullback</td>\n",
       "      <td>breaks structure and reverses</td>\n",
       "    </tr>\n",
       "    <tr>\n",
       "      <th>3</th>\n",
       "      <td>8</td>\n",
       "      <td>b'\\x89PNG\\r\\n\\x1a\\n\\x00\\x00\\x00\\rIHDR\\x00\\x00\\...</td>\n",
       "      <td>yes</td>\n",
       "      <td>down</td>\n",
       "      <td>consolidation</td>\n",
       "      <td>continues trend</td>\n",
       "    </tr>\n",
       "    <tr>\n",
       "      <th>4</th>\n",
       "      <td>9</td>\n",
       "      <td>b'\\x89PNG\\r\\n\\x1a\\n\\x00\\x00\\x00\\rIHDR\\x00\\x00\\...</td>\n",
       "      <td>yes</td>\n",
       "      <td>down</td>\n",
       "      <td>pullback</td>\n",
       "      <td>continues trend</td>\n",
       "    </tr>\n",
       "    <tr>\n",
       "      <th>...</th>\n",
       "      <td>...</td>\n",
       "      <td>...</td>\n",
       "      <td>...</td>\n",
       "      <td>...</td>\n",
       "      <td>...</td>\n",
       "      <td>...</td>\n",
       "    </tr>\n",
       "    <tr>\n",
       "      <th>295</th>\n",
       "      <td>300</td>\n",
       "      <td>b'\\x89PNG\\r\\n\\x1a\\n\\x00\\x00\\x00\\rIHDR\\x00\\x00\\...</td>\n",
       "      <td>yes</td>\n",
       "      <td>down</td>\n",
       "      <td>pullback</td>\n",
       "      <td>consolidates/no trend</td>\n",
       "    </tr>\n",
       "    <tr>\n",
       "      <th>297</th>\n",
       "      <td>302</td>\n",
       "      <td>b'\\x89PNG\\r\\n\\x1a\\n\\x00\\x00\\x00\\rIHDR\\x00\\x00\\...</td>\n",
       "      <td>yes</td>\n",
       "      <td>down</td>\n",
       "      <td>consolidation</td>\n",
       "      <td>breaks structure and reverses</td>\n",
       "    </tr>\n",
       "    <tr>\n",
       "      <th>298</th>\n",
       "      <td>303</td>\n",
       "      <td>b'\\x89PNG\\r\\n\\x1a\\n\\x00\\x00\\x00\\rIHDR\\x00\\x00\\...</td>\n",
       "      <td>yes</td>\n",
       "      <td>up</td>\n",
       "      <td>pullback</td>\n",
       "      <td>continues pull back</td>\n",
       "    </tr>\n",
       "    <tr>\n",
       "      <th>299</th>\n",
       "      <td>304</td>\n",
       "      <td>b'\\x89PNG\\r\\n\\x1a\\n\\x00\\x00\\x00\\rIHDR\\x00\\x00\\...</td>\n",
       "      <td>yes</td>\n",
       "      <td>down</td>\n",
       "      <td>pullback</td>\n",
       "      <td>continues trend</td>\n",
       "    </tr>\n",
       "    <tr>\n",
       "      <th>300</th>\n",
       "      <td>305</td>\n",
       "      <td>b'\\x89PNG\\r\\n\\x1a\\n\\x00\\x00\\x00\\rIHDR\\x00\\x00\\...</td>\n",
       "      <td>yes</td>\n",
       "      <td>down</td>\n",
       "      <td>consolidation</td>\n",
       "      <td>continues trend</td>\n",
       "    </tr>\n",
       "  </tbody>\n",
       "</table>\n",
       "<p>277 rows × 6 columns</p>\n",
       "</div>"
      ],
      "text/plain": [
       "      id                                         image_data tradable trend  \\\n",
       "0      5  b'\\x89PNG\\r\\n\\x1a\\n\\x00\\x00\\x00\\rIHDR\\x00\\x00\\...      yes    up   \n",
       "1      6  b'\\x89PNG\\r\\n\\x1a\\n\\x00\\x00\\x00\\rIHDR\\x00\\x00\\...      yes  down   \n",
       "2      7  b'\\x89PNG\\r\\n\\x1a\\n\\x00\\x00\\x00\\rIHDR\\x00\\x00\\...      yes  down   \n",
       "3      8  b'\\x89PNG\\r\\n\\x1a\\n\\x00\\x00\\x00\\rIHDR\\x00\\x00\\...      yes  down   \n",
       "4      9  b'\\x89PNG\\r\\n\\x1a\\n\\x00\\x00\\x00\\rIHDR\\x00\\x00\\...      yes  down   \n",
       "..   ...                                                ...      ...   ...   \n",
       "295  300  b'\\x89PNG\\r\\n\\x1a\\n\\x00\\x00\\x00\\rIHDR\\x00\\x00\\...      yes  down   \n",
       "297  302  b'\\x89PNG\\r\\n\\x1a\\n\\x00\\x00\\x00\\rIHDR\\x00\\x00\\...      yes  down   \n",
       "298  303  b'\\x89PNG\\r\\n\\x1a\\n\\x00\\x00\\x00\\rIHDR\\x00\\x00\\...      yes    up   \n",
       "299  304  b'\\x89PNG\\r\\n\\x1a\\n\\x00\\x00\\x00\\rIHDR\\x00\\x00\\...      yes  down   \n",
       "300  305  b'\\x89PNG\\r\\n\\x1a\\n\\x00\\x00\\x00\\rIHDR\\x00\\x00\\...      yes  down   \n",
       "\n",
       "             phase                          after  \n",
       "0         pullback            continues pull back  \n",
       "1         pullback                continues trend  \n",
       "2         pullback  breaks structure and reverses  \n",
       "3    consolidation                continues trend  \n",
       "4         pullback                continues trend  \n",
       "..             ...                            ...  \n",
       "295       pullback          consolidates/no trend  \n",
       "297  consolidation  breaks structure and reverses  \n",
       "298       pullback            continues pull back  \n",
       "299       pullback                continues trend  \n",
       "300  consolidation                continues trend  \n",
       "\n",
       "[277 rows x 6 columns]"
      ]
     },
     "execution_count": 4,
     "metadata": {},
     "output_type": "execute_result"
    }
   ],
   "source": [
    "table_name = 'trading_data'\n",
    "query = f\"SELECT * FROM {table_name}\"\n",
    "df = pd.read_sql_query(query, conn)\n",
    "df.replace('null', pd.NA, inplace = True)\n",
    "df.dropna(inplace = True)\n",
    "df"
   ]
  },
  {
   "cell_type": "markdown",
   "metadata": {},
   "source": [
    "convert the images from binary back to an image represented as a numpy array"
   ]
  },
  {
   "cell_type": "code",
   "execution_count": 5,
   "metadata": {},
   "outputs": [
    {
     "data": {
      "text/html": [
       "<div>\n",
       "<style scoped>\n",
       "    .dataframe tbody tr th:only-of-type {\n",
       "        vertical-align: middle;\n",
       "    }\n",
       "\n",
       "    .dataframe tbody tr th {\n",
       "        vertical-align: top;\n",
       "    }\n",
       "\n",
       "    .dataframe thead th {\n",
       "        text-align: right;\n",
       "    }\n",
       "</style>\n",
       "<table border=\"1\" class=\"dataframe\">\n",
       "  <thead>\n",
       "    <tr style=\"text-align: right;\">\n",
       "      <th></th>\n",
       "      <th>id</th>\n",
       "      <th>image_data</th>\n",
       "      <th>tradable</th>\n",
       "      <th>trend</th>\n",
       "      <th>phase</th>\n",
       "      <th>after</th>\n",
       "      <th>images</th>\n",
       "    </tr>\n",
       "  </thead>\n",
       "  <tbody>\n",
       "    <tr>\n",
       "      <th>0</th>\n",
       "      <td>5</td>\n",
       "      <td>b'\\x89PNG\\r\\n\\x1a\\n\\x00\\x00\\x00\\rIHDR\\x00\\x00\\...</td>\n",
       "      <td>yes</td>\n",
       "      <td>up</td>\n",
       "      <td>pullback</td>\n",
       "      <td>continues pull back</td>\n",
       "      <td>[[[255, 255, 255], [255, 255, 255], [255, 255,...</td>\n",
       "    </tr>\n",
       "    <tr>\n",
       "      <th>1</th>\n",
       "      <td>6</td>\n",
       "      <td>b'\\x89PNG\\r\\n\\x1a\\n\\x00\\x00\\x00\\rIHDR\\x00\\x00\\...</td>\n",
       "      <td>yes</td>\n",
       "      <td>down</td>\n",
       "      <td>pullback</td>\n",
       "      <td>continues trend</td>\n",
       "      <td>[[[255, 255, 255], [255, 255, 255], [255, 255,...</td>\n",
       "    </tr>\n",
       "    <tr>\n",
       "      <th>2</th>\n",
       "      <td>7</td>\n",
       "      <td>b'\\x89PNG\\r\\n\\x1a\\n\\x00\\x00\\x00\\rIHDR\\x00\\x00\\...</td>\n",
       "      <td>yes</td>\n",
       "      <td>down</td>\n",
       "      <td>pullback</td>\n",
       "      <td>breaks structure and reverses</td>\n",
       "      <td>[[[255, 255, 255], [255, 255, 255], [255, 255,...</td>\n",
       "    </tr>\n",
       "    <tr>\n",
       "      <th>3</th>\n",
       "      <td>8</td>\n",
       "      <td>b'\\x89PNG\\r\\n\\x1a\\n\\x00\\x00\\x00\\rIHDR\\x00\\x00\\...</td>\n",
       "      <td>yes</td>\n",
       "      <td>down</td>\n",
       "      <td>consolidation</td>\n",
       "      <td>continues trend</td>\n",
       "      <td>[[[255, 255, 255], [255, 255, 255], [255, 255,...</td>\n",
       "    </tr>\n",
       "    <tr>\n",
       "      <th>4</th>\n",
       "      <td>9</td>\n",
       "      <td>b'\\x89PNG\\r\\n\\x1a\\n\\x00\\x00\\x00\\rIHDR\\x00\\x00\\...</td>\n",
       "      <td>yes</td>\n",
       "      <td>down</td>\n",
       "      <td>pullback</td>\n",
       "      <td>continues trend</td>\n",
       "      <td>[[[255, 255, 255], [255, 255, 255], [255, 255,...</td>\n",
       "    </tr>\n",
       "    <tr>\n",
       "      <th>...</th>\n",
       "      <td>...</td>\n",
       "      <td>...</td>\n",
       "      <td>...</td>\n",
       "      <td>...</td>\n",
       "      <td>...</td>\n",
       "      <td>...</td>\n",
       "      <td>...</td>\n",
       "    </tr>\n",
       "    <tr>\n",
       "      <th>295</th>\n",
       "      <td>300</td>\n",
       "      <td>b'\\x89PNG\\r\\n\\x1a\\n\\x00\\x00\\x00\\rIHDR\\x00\\x00\\...</td>\n",
       "      <td>yes</td>\n",
       "      <td>down</td>\n",
       "      <td>pullback</td>\n",
       "      <td>consolidates/no trend</td>\n",
       "      <td>[[[255, 255, 255], [255, 255, 255], [255, 255,...</td>\n",
       "    </tr>\n",
       "    <tr>\n",
       "      <th>297</th>\n",
       "      <td>302</td>\n",
       "      <td>b'\\x89PNG\\r\\n\\x1a\\n\\x00\\x00\\x00\\rIHDR\\x00\\x00\\...</td>\n",
       "      <td>yes</td>\n",
       "      <td>down</td>\n",
       "      <td>consolidation</td>\n",
       "      <td>breaks structure and reverses</td>\n",
       "      <td>[[[255, 255, 255], [255, 255, 255], [255, 255,...</td>\n",
       "    </tr>\n",
       "    <tr>\n",
       "      <th>298</th>\n",
       "      <td>303</td>\n",
       "      <td>b'\\x89PNG\\r\\n\\x1a\\n\\x00\\x00\\x00\\rIHDR\\x00\\x00\\...</td>\n",
       "      <td>yes</td>\n",
       "      <td>up</td>\n",
       "      <td>pullback</td>\n",
       "      <td>continues pull back</td>\n",
       "      <td>[[[255, 255, 255], [255, 255, 255], [255, 255,...</td>\n",
       "    </tr>\n",
       "    <tr>\n",
       "      <th>299</th>\n",
       "      <td>304</td>\n",
       "      <td>b'\\x89PNG\\r\\n\\x1a\\n\\x00\\x00\\x00\\rIHDR\\x00\\x00\\...</td>\n",
       "      <td>yes</td>\n",
       "      <td>down</td>\n",
       "      <td>pullback</td>\n",
       "      <td>continues trend</td>\n",
       "      <td>[[[255, 255, 255], [255, 255, 255], [255, 255,...</td>\n",
       "    </tr>\n",
       "    <tr>\n",
       "      <th>300</th>\n",
       "      <td>305</td>\n",
       "      <td>b'\\x89PNG\\r\\n\\x1a\\n\\x00\\x00\\x00\\rIHDR\\x00\\x00\\...</td>\n",
       "      <td>yes</td>\n",
       "      <td>down</td>\n",
       "      <td>consolidation</td>\n",
       "      <td>continues trend</td>\n",
       "      <td>[[[255, 255, 255], [255, 255, 255], [255, 255,...</td>\n",
       "    </tr>\n",
       "  </tbody>\n",
       "</table>\n",
       "<p>277 rows × 7 columns</p>\n",
       "</div>"
      ],
      "text/plain": [
       "      id                                         image_data tradable trend  \\\n",
       "0      5  b'\\x89PNG\\r\\n\\x1a\\n\\x00\\x00\\x00\\rIHDR\\x00\\x00\\...      yes    up   \n",
       "1      6  b'\\x89PNG\\r\\n\\x1a\\n\\x00\\x00\\x00\\rIHDR\\x00\\x00\\...      yes  down   \n",
       "2      7  b'\\x89PNG\\r\\n\\x1a\\n\\x00\\x00\\x00\\rIHDR\\x00\\x00\\...      yes  down   \n",
       "3      8  b'\\x89PNG\\r\\n\\x1a\\n\\x00\\x00\\x00\\rIHDR\\x00\\x00\\...      yes  down   \n",
       "4      9  b'\\x89PNG\\r\\n\\x1a\\n\\x00\\x00\\x00\\rIHDR\\x00\\x00\\...      yes  down   \n",
       "..   ...                                                ...      ...   ...   \n",
       "295  300  b'\\x89PNG\\r\\n\\x1a\\n\\x00\\x00\\x00\\rIHDR\\x00\\x00\\...      yes  down   \n",
       "297  302  b'\\x89PNG\\r\\n\\x1a\\n\\x00\\x00\\x00\\rIHDR\\x00\\x00\\...      yes  down   \n",
       "298  303  b'\\x89PNG\\r\\n\\x1a\\n\\x00\\x00\\x00\\rIHDR\\x00\\x00\\...      yes    up   \n",
       "299  304  b'\\x89PNG\\r\\n\\x1a\\n\\x00\\x00\\x00\\rIHDR\\x00\\x00\\...      yes  down   \n",
       "300  305  b'\\x89PNG\\r\\n\\x1a\\n\\x00\\x00\\x00\\rIHDR\\x00\\x00\\...      yes  down   \n",
       "\n",
       "             phase                          after  \\\n",
       "0         pullback            continues pull back   \n",
       "1         pullback                continues trend   \n",
       "2         pullback  breaks structure and reverses   \n",
       "3    consolidation                continues trend   \n",
       "4         pullback                continues trend   \n",
       "..             ...                            ...   \n",
       "295       pullback          consolidates/no trend   \n",
       "297  consolidation  breaks structure and reverses   \n",
       "298       pullback            continues pull back   \n",
       "299       pullback                continues trend   \n",
       "300  consolidation                continues trend   \n",
       "\n",
       "                                                images  \n",
       "0    [[[255, 255, 255], [255, 255, 255], [255, 255,...  \n",
       "1    [[[255, 255, 255], [255, 255, 255], [255, 255,...  \n",
       "2    [[[255, 255, 255], [255, 255, 255], [255, 255,...  \n",
       "3    [[[255, 255, 255], [255, 255, 255], [255, 255,...  \n",
       "4    [[[255, 255, 255], [255, 255, 255], [255, 255,...  \n",
       "..                                                 ...  \n",
       "295  [[[255, 255, 255], [255, 255, 255], [255, 255,...  \n",
       "297  [[[255, 255, 255], [255, 255, 255], [255, 255,...  \n",
       "298  [[[255, 255, 255], [255, 255, 255], [255, 255,...  \n",
       "299  [[[255, 255, 255], [255, 255, 255], [255, 255,...  \n",
       "300  [[[255, 255, 255], [255, 255, 255], [255, 255,...  \n",
       "\n",
       "[277 rows x 7 columns]"
      ]
     },
     "execution_count": 5,
     "metadata": {},
     "output_type": "execute_result"
    }
   ],
   "source": [
    "def blob_to_image(blob):\n",
    "    return np.array(Image.open(BytesIO(blob)))\n",
    "\n",
    "df['images'] = df['image_data'].apply(blob_to_image)\n",
    "df"
   ]
  },
  {
   "cell_type": "markdown",
   "metadata": {},
   "source": [
    "create two numpy arrays, one containing the images, the other containing the labels"
   ]
  },
  {
   "cell_type": "code",
   "execution_count": 6,
   "metadata": {},
   "outputs": [],
   "source": [
    "images = np.array(df['images'])\n",
    "labels = df[['trend', 'phase', 'after']].values"
   ]
  },
  {
   "cell_type": "markdown",
   "metadata": {},
   "source": [
    "print out and show the data we are working with."
   ]
  },
  {
   "cell_type": "code",
   "execution_count": 7,
   "metadata": {},
   "outputs": [
    {
     "name": "stdout",
     "output_type": "stream",
     "text": [
      "[[[255 255 255]\n",
      "  [255 255 255]\n",
      "  [255 255 255]\n",
      "  ...\n",
      "  [255 255 255]\n",
      "  [255 255 255]\n",
      "  [255 255 255]]\n",
      "\n",
      " [[224 227 235]\n",
      "  [224 227 235]\n",
      "  [224 227 235]\n",
      "  ...\n",
      "  [175 178 187]\n",
      "  [175 178 187]\n",
      "  [175 178 187]]\n",
      "\n",
      " [[224 227 235]\n",
      "  [224 227 235]\n",
      "  [224 227 235]\n",
      "  ...\n",
      "  [184 187 196]\n",
      "  [184 187 196]\n",
      "  [184 187 196]]\n",
      "\n",
      " ...\n",
      "\n",
      " [[224 227 235]\n",
      "  [224 227 235]\n",
      "  [224 227 235]\n",
      "  ...\n",
      "  [233 233 233]\n",
      "  [233 233 233]\n",
      "  [233 233 233]]\n",
      "\n",
      " [[224 227 235]\n",
      "  [224 227 235]\n",
      "  [224 227 235]\n",
      "  ...\n",
      "  [233 233 233]\n",
      "  [233 233 233]\n",
      "  [233 233 233]]\n",
      "\n",
      " [[224 227 235]\n",
      "  [224 227 235]\n",
      "  [224 227 235]\n",
      "  ...\n",
      "  [233 233 233]\n",
      "  [233 233 233]\n",
      "  [233 233 233]]]\n",
      "['up' 'pullback' 'continues pull back']\n"
     ]
    }
   ],
   "source": [
    "print(images[0])\n",
    "print(labels[0])"
   ]
  },
  {
   "cell_type": "markdown",
   "metadata": {},
   "source": [
    "verify that the numpy array full of images in numpy array form are valid and that they represent a single image"
   ]
  },
  {
   "cell_type": "code",
   "execution_count": 8,
   "metadata": {},
   "outputs": [
    {
     "data": {
      "text/plain": [
       "<matplotlib.image.AxesImage at 0x1341a1b0730>"
      ]
     },
     "execution_count": 8,
     "metadata": {},
     "output_type": "execute_result"
    },
    {
     "data": {
      "image/png": "[encoded data removed]",
      "text/plain": [
       "<Figure size 432x288 with 1 Axes>"
      ]
     },
     "metadata": {
      "needs_background": "light"
     },
     "output_type": "display_data"
    }
   ],
   "source": [
    "sample_image = images[0]\n",
    "plt.imshow(sample_image)"
   ]
  },
  {
   "cell_type": "markdown",
   "metadata": {},
   "source": [
    "confirm that the list of images are infact numpy arrays each representing an image"
   ]
  },
  {
   "cell_type": "code",
   "execution_count": 9,
   "metadata": {},
   "outputs": [
    {
     "name": "stdout",
     "output_type": "stream",
     "text": [
      "Element 0 - Type: <class 'numpy.ndarray'>, Shape: (721, 1030, 3)\n",
      "Element 1 - Type: <class 'numpy.ndarray'>, Shape: (721, 1030, 3)\n",
      "Element 2 - Type: <class 'numpy.ndarray'>, Shape: (721, 1030, 3)\n",
      "Element 3 - Type: <class 'numpy.ndarray'>, Shape: (721, 1030, 3)\n",
      "Element 4 - Type: <class 'numpy.ndarray'>, Shape: (721, 1030, 3)\n",
      "Element 5 - Type: <class 'numpy.ndarray'>, Shape: (721, 1030, 3)\n",
      "Element 6 - Type: <class 'numpy.ndarray'>, Shape: (721, 1030, 3)\n",
      "Element 7 - Type: <class 'numpy.ndarray'>, Shape: (721, 1030, 3)\n",
      "Element 8 - Type: <class 'numpy.ndarray'>, Shape: (721, 1030, 3)\n",
      "Element 9 - Type: <class 'numpy.ndarray'>, Shape: (721, 1030, 3)\n",
      "Element 10 - Type: <class 'numpy.ndarray'>, Shape: (721, 1030, 3)\n",
      "Element 11 - Type: <class 'numpy.ndarray'>, Shape: (721, 1030, 3)\n",
      "Element 12 - Type: <class 'numpy.ndarray'>, Shape: (721, 1030, 3)\n",
      "Element 13 - Type: <class 'numpy.ndarray'>, Shape: (721, 1030, 3)\n",
      "Element 14 - Type: <class 'numpy.ndarray'>, Shape: (721, 1030, 3)\n",
      "Element 15 - Type: <class 'numpy.ndarray'>, Shape: (721, 1030, 3)\n",
      "Element 16 - Type: <class 'numpy.ndarray'>, Shape: (721, 1030, 3)\n",
      "Element 17 - Type: <class 'numpy.ndarray'>, Shape: (721, 1030, 3)\n",
      "Element 18 - Type: <class 'numpy.ndarray'>, Shape: (721, 1030, 3)\n",
      "Element 19 - Type: <class 'numpy.ndarray'>, Shape: (721, 1030, 3)\n",
      "Element 20 - Type: <class 'numpy.ndarray'>, Shape: (721, 1030, 3)\n",
      "Element 21 - Type: <class 'numpy.ndarray'>, Shape: (721, 1030, 3)\n",
      "Element 22 - Type: <class 'numpy.ndarray'>, Shape: (721, 1030, 3)\n",
      "Element 23 - Type: <class 'numpy.ndarray'>, Shape: (721, 1030, 3)\n",
      "Element 24 - Type: <class 'numpy.ndarray'>, Shape: (721, 1030, 3)\n",
      "Element 25 - Type: <class 'numpy.ndarray'>, Shape: (721, 1030, 3)\n",
      "Element 26 - Type: <class 'numpy.ndarray'>, Shape: (721, 1030, 3)\n",
      "Element 27 - Type: <class 'numpy.ndarray'>, Shape: (721, 1030, 3)\n",
      "Element 28 - Type: <class 'numpy.ndarray'>, Shape: (721, 1030, 3)\n",
      "Element 29 - Type: <class 'numpy.ndarray'>, Shape: (721, 1030, 3)\n",
      "Element 30 - Type: <class 'numpy.ndarray'>, Shape: (721, 1030, 3)\n",
      "Element 31 - Type: <class 'numpy.ndarray'>, Shape: (721, 1030, 3)\n",
      "Element 32 - Type: <class 'numpy.ndarray'>, Shape: (721, 1030, 3)\n",
      "Element 33 - Type: <class 'numpy.ndarray'>, Shape: (721, 1030, 3)\n",
      "Element 34 - Type: <class 'numpy.ndarray'>, Shape: (721, 1030, 3)\n",
      "Element 35 - Type: <class 'numpy.ndarray'>, Shape: (721, 1030, 3)\n",
      "Element 36 - Type: <class 'numpy.ndarray'>, Shape: (721, 1030, 3)\n",
      "Element 37 - Type: <class 'numpy.ndarray'>, Shape: (721, 1030, 3)\n",
      "Element 38 - Type: <class 'numpy.ndarray'>, Shape: (721, 1030, 3)\n",
      "Element 39 - Type: <class 'numpy.ndarray'>, Shape: (721, 1030, 3)\n",
      "Element 40 - Type: <class 'numpy.ndarray'>, Shape: (721, 1030, 3)\n",
      "Element 41 - Type: <class 'numpy.ndarray'>, Shape: (721, 1030, 3)\n",
      "Element 42 - Type: <class 'numpy.ndarray'>, Shape: (721, 1030, 3)\n",
      "Element 43 - Type: <class 'numpy.ndarray'>, Shape: (721, 1030, 3)\n",
      "Element 44 - Type: <class 'numpy.ndarray'>, Shape: (721, 1030, 3)\n",
      "Element 45 - Type: <class 'numpy.ndarray'>, Shape: (721, 1030, 3)\n",
      "Element 46 - Type: <class 'numpy.ndarray'>, Shape: (721, 1030, 3)\n",
      "Element 47 - Type: <class 'numpy.ndarray'>, Shape: (721, 1030, 3)\n",
      "Element 48 - Type: <class 'numpy.ndarray'>, Shape: (721, 1030, 3)\n",
      "Element 49 - Type: <class 'numpy.ndarray'>, Shape: (721, 1030, 3)\n",
      "Element 50 - Type: <class 'numpy.ndarray'>, Shape: (721, 1030, 3)\n",
      "Element 51 - Type: <class 'numpy.ndarray'>, Shape: (721, 1030, 3)\n",
      "Element 52 - Type: <class 'numpy.ndarray'>, Shape: (721, 1030, 3)\n",
      "Element 53 - Type: <class 'numpy.ndarray'>, Shape: (721, 1030, 3)\n",
      "Element 54 - Type: <class 'numpy.ndarray'>, Shape: (721, 1030, 3)\n",
      "Element 55 - Type: <class 'numpy.ndarray'>, Shape: (721, 1030, 3)\n",
      "Element 56 - Type: <class 'numpy.ndarray'>, Shape: (721, 1030, 3)\n",
      "Element 57 - Type: <class 'numpy.ndarray'>, Shape: (721, 1030, 3)\n",
      "Element 58 - Type: <class 'numpy.ndarray'>, Shape: (721, 1030, 3)\n",
      "Element 59 - Type: <class 'numpy.ndarray'>, Shape: (721, 1030, 3)\n",
      "Element 60 - Type: <class 'numpy.ndarray'>, Shape: (721, 1030, 3)\n",
      "Element 61 - Type: <class 'numpy.ndarray'>, Shape: (721, 1030, 3)\n",
      "Element 62 - Type: <class 'numpy.ndarray'>, Shape: (721, 1030, 3)\n",
      "Element 63 - Type: <class 'numpy.ndarray'>, Shape: (721, 1030, 3)\n",
      "Element 64 - Type: <class 'numpy.ndarray'>, Shape: (721, 1030, 3)\n",
      "Element 65 - Type: <class 'numpy.ndarray'>, Shape: (721, 1030, 3)\n",
      "Element 66 - Type: <class 'numpy.ndarray'>, Shape: (721, 1030, 3)\n",
      "Element 67 - Type: <class 'numpy.ndarray'>, Shape: (721, 1030, 3)\n",
      "Element 68 - Type: <class 'numpy.ndarray'>, Shape: (721, 1030, 3)\n",
      "Element 69 - Type: <class 'numpy.ndarray'>, Shape: (721, 1030, 3)\n",
      "Element 70 - Type: <class 'numpy.ndarray'>, Shape: (721, 1030, 3)\n",
      "Element 71 - Type: <class 'numpy.ndarray'>, Shape: (721, 1030, 3)\n",
      "Element 72 - Type: <class 'numpy.ndarray'>, Shape: (721, 1030, 3)\n",
      "Element 73 - Type: <class 'numpy.ndarray'>, Shape: (721, 1030, 3)\n",
      "Element 74 - Type: <class 'numpy.ndarray'>, Shape: (721, 1030, 3)\n",
      "Element 75 - Type: <class 'numpy.ndarray'>, Shape: (721, 1030, 3)\n",
      "Element 76 - Type: <class 'numpy.ndarray'>, Shape: (721, 1030, 3)\n",
      "Element 77 - Type: <class 'numpy.ndarray'>, Shape: (721, 1030, 3)\n",
      "Element 78 - Type: <class 'numpy.ndarray'>, Shape: (721, 1030, 3)\n",
      "Element 79 - Type: <class 'numpy.ndarray'>, Shape: (721, 1030, 3)\n",
      "Element 80 - Type: <class 'numpy.ndarray'>, Shape: (721, 1030, 3)\n",
      "Element 81 - Type: <class 'numpy.ndarray'>, Shape: (721, 1030, 3)\n",
      "Element 82 - Type: <class 'numpy.ndarray'>, Shape: (721, 1030, 3)\n",
      "Element 83 - Type: <class 'numpy.ndarray'>, Shape: (721, 1030, 3)\n",
      "Element 84 - Type: <class 'numpy.ndarray'>, Shape: (721, 1030, 3)\n",
      "Element 85 - Type: <class 'numpy.ndarray'>, Shape: (721, 1030, 3)\n",
      "Element 86 - Type: <class 'numpy.ndarray'>, Shape: (721, 1030, 3)\n",
      "Element 87 - Type: <class 'numpy.ndarray'>, Shape: (721, 1030, 3)\n",
      "Element 88 - Type: <class 'numpy.ndarray'>, Shape: (721, 1030, 3)\n",
      "Element 89 - Type: <class 'numpy.ndarray'>, Shape: (721, 1030, 3)\n",
      "Element 90 - Type: <class 'numpy.ndarray'>, Shape: (721, 1030, 3)\n",
      "Element 91 - Type: <class 'numpy.ndarray'>, Shape: (721, 1030, 3)\n",
      "Element 92 - Type: <class 'numpy.ndarray'>, Shape: (721, 1030, 3)\n",
      "Element 93 - Type: <class 'numpy.ndarray'>, Shape: (721, 1030, 3)\n",
      "Element 94 - Type: <class 'numpy.ndarray'>, Shape: (721, 1030, 3)\n",
      "Element 95 - Type: <class 'numpy.ndarray'>, Shape: (721, 1030, 3)\n",
      "Element 96 - Type: <class 'numpy.ndarray'>, Shape: (721, 1030, 3)\n",
      "Element 97 - Type: <class 'numpy.ndarray'>, Shape: (721, 1030, 3)\n",
      "Element 98 - Type: <class 'numpy.ndarray'>, Shape: (721, 1030, 3)\n",
      "Element 99 - Type: <class 'numpy.ndarray'>, Shape: (721, 1030, 3)\n",
      "Element 100 - Type: <class 'numpy.ndarray'>, Shape: (721, 1030, 3)\n",
      "Element 101 - Type: <class 'numpy.ndarray'>, Shape: (721, 1030, 3)\n",
      "Element 102 - Type: <class 'numpy.ndarray'>, Shape: (721, 1030, 3)\n",
      "Element 103 - Type: <class 'numpy.ndarray'>, Shape: (721, 1030, 3)\n",
      "Element 104 - Type: <class 'numpy.ndarray'>, Shape: (721, 1030, 3)\n",
      "Element 105 - Type: <class 'numpy.ndarray'>, Shape: (721, 1030, 3)\n",
      "Element 106 - Type: <class 'numpy.ndarray'>, Shape: (721, 1030, 3)\n",
      "Element 107 - Type: <class 'numpy.ndarray'>, Shape: (721, 1030, 3)\n",
      "Element 108 - Type: <class 'numpy.ndarray'>, Shape: (721, 1030, 3)\n",
      "Element 109 - Type: <class 'numpy.ndarray'>, Shape: (721, 1030, 3)\n",
      "Element 110 - Type: <class 'numpy.ndarray'>, Shape: (721, 1030, 3)\n",
      "Element 111 - Type: <class 'numpy.ndarray'>, Shape: (721, 1030, 3)\n",
      "Element 112 - Type: <class 'numpy.ndarray'>, Shape: (721, 1030, 3)\n",
      "Element 113 - Type: <class 'numpy.ndarray'>, Shape: (721, 1030, 3)\n",
      "Element 114 - Type: <class 'numpy.ndarray'>, Shape: (721, 1030, 3)\n",
      "Element 115 - Type: <class 'numpy.ndarray'>, Shape: (721, 1030, 3)\n",
      "Element 116 - Type: <class 'numpy.ndarray'>, Shape: (721, 1030, 3)\n",
      "Element 117 - Type: <class 'numpy.ndarray'>, Shape: (721, 1030, 3)\n",
      "Element 118 - Type: <class 'numpy.ndarray'>, Shape: (721, 1030, 3)\n",
      "Element 119 - Type: <class 'numpy.ndarray'>, Shape: (721, 1030, 3)\n",
      "Element 120 - Type: <class 'numpy.ndarray'>, Shape: (721, 1030, 3)\n",
      "Element 121 - Type: <class 'numpy.ndarray'>, Shape: (721, 1030, 3)\n",
      "Element 122 - Type: <class 'numpy.ndarray'>, Shape: (721, 1030, 3)\n",
      "Element 123 - Type: <class 'numpy.ndarray'>, Shape: (721, 1030, 3)\n",
      "Element 124 - Type: <class 'numpy.ndarray'>, Shape: (721, 1030, 3)\n",
      "Element 125 - Type: <class 'numpy.ndarray'>, Shape: (721, 1030, 3)\n",
      "Element 126 - Type: <class 'numpy.ndarray'>, Shape: (721, 1030, 3)\n",
      "Element 127 - Type: <class 'numpy.ndarray'>, Shape: (721, 1030, 3)\n",
      "Element 128 - Type: <class 'numpy.ndarray'>, Shape: (721, 1030, 3)\n",
      "Element 129 - Type: <class 'numpy.ndarray'>, Shape: (721, 1030, 3)\n",
      "Element 130 - Type: <class 'numpy.ndarray'>, Shape: (721, 1030, 3)\n",
      "Element 131 - Type: <class 'numpy.ndarray'>, Shape: (721, 1030, 3)\n",
      "Element 132 - Type: <class 'numpy.ndarray'>, Shape: (721, 1030, 3)\n",
      "Element 133 - Type: <class 'numpy.ndarray'>, Shape: (721, 1030, 3)\n",
      "Element 134 - Type: <class 'numpy.ndarray'>, Shape: (721, 1030, 3)\n",
      "Element 135 - Type: <class 'numpy.ndarray'>, Shape: (721, 1030, 3)\n",
      "Element 136 - Type: <class 'numpy.ndarray'>, Shape: (721, 1030, 3)\n",
      "Element 137 - Type: <class 'numpy.ndarray'>, Shape: (721, 1030, 3)\n",
      "Element 138 - Type: <class 'numpy.ndarray'>, Shape: (721, 1030, 3)\n",
      "Element 139 - Type: <class 'numpy.ndarray'>, Shape: (721, 1030, 3)\n",
      "Element 140 - Type: <class 'numpy.ndarray'>, Shape: (721, 1030, 3)\n",
      "Element 141 - Type: <class 'numpy.ndarray'>, Shape: (721, 1030, 3)\n",
      "Element 142 - Type: <class 'numpy.ndarray'>, Shape: (721, 1030, 3)\n",
      "Element 143 - Type: <class 'numpy.ndarray'>, Shape: (721, 1030, 3)\n",
      "Element 144 - Type: <class 'numpy.ndarray'>, Shape: (721, 1030, 3)\n",
      "Element 145 - Type: <class 'numpy.ndarray'>, Shape: (721, 1030, 3)\n",
      "Element 146 - Type: <class 'numpy.ndarray'>, Shape: (721, 1030, 3)\n",
      "Element 147 - Type: <class 'numpy.ndarray'>, Shape: (721, 1030, 3)\n",
      "Element 148 - Type: <class 'numpy.ndarray'>, Shape: (721, 1030, 3)\n",
      "Element 149 - Type: <class 'numpy.ndarray'>, Shape: (721, 1030, 3)\n",
      "Element 150 - Type: <class 'numpy.ndarray'>, Shape: (721, 1030, 3)\n",
      "Element 151 - Type: <class 'numpy.ndarray'>, Shape: (721, 1030, 3)\n",
      "Element 152 - Type: <class 'numpy.ndarray'>, Shape: (721, 1030, 3)\n",
      "Element 153 - Type: <class 'numpy.ndarray'>, Shape: (721, 1030, 3)\n",
      "Element 154 - Type: <class 'numpy.ndarray'>, Shape: (721, 1030, 3)\n",
      "Element 155 - Type: <class 'numpy.ndarray'>, Shape: (721, 1030, 3)\n",
      "Element 156 - Type: <class 'numpy.ndarray'>, Shape: (721, 1030, 3)\n",
      "Element 157 - Type: <class 'numpy.ndarray'>, Shape: (721, 1030, 3)\n",
      "Element 158 - Type: <class 'numpy.ndarray'>, Shape: (721, 1030, 3)\n",
      "Element 159 - Type: <class 'numpy.ndarray'>, Shape: (721, 1030, 3)\n",
      "Element 160 - Type: <class 'numpy.ndarray'>, Shape: (721, 1030, 3)\n",
      "Element 161 - Type: <class 'numpy.ndarray'>, Shape: (721, 1030, 3)\n",
      "Element 162 - Type: <class 'numpy.ndarray'>, Shape: (721, 1030, 3)\n",
      "Element 163 - Type: <class 'numpy.ndarray'>, Shape: (721, 1030, 3)\n",
      "Element 164 - Type: <class 'numpy.ndarray'>, Shape: (721, 1030, 3)\n",
      "Element 165 - Type: <class 'numpy.ndarray'>, Shape: (721, 1030, 3)\n",
      "Element 166 - Type: <class 'numpy.ndarray'>, Shape: (721, 1030, 3)\n",
      "Element 167 - Type: <class 'numpy.ndarray'>, Shape: (721, 1030, 3)\n",
      "Element 168 - Type: <class 'numpy.ndarray'>, Shape: (721, 1030, 3)\n",
      "Element 169 - Type: <class 'numpy.ndarray'>, Shape: (721, 1030, 3)\n",
      "Element 170 - Type: <class 'numpy.ndarray'>, Shape: (721, 1030, 3)\n",
      "Element 171 - Type: <class 'numpy.ndarray'>, Shape: (721, 1030, 3)\n",
      "Element 172 - Type: <class 'numpy.ndarray'>, Shape: (721, 1030, 3)\n",
      "Element 173 - Type: <class 'numpy.ndarray'>, Shape: (721, 1030, 3)\n",
      "Element 174 - Type: <class 'numpy.ndarray'>, Shape: (721, 1030, 3)\n",
      "Element 175 - Type: <class 'numpy.ndarray'>, Shape: (721, 1030, 3)\n",
      "Element 176 - Type: <class 'numpy.ndarray'>, Shape: (721, 1030, 3)\n",
      "Element 177 - Type: <class 'numpy.ndarray'>, Shape: (721, 1030, 3)\n",
      "Element 178 - Type: <class 'numpy.ndarray'>, Shape: (721, 1030, 3)\n",
      "Element 179 - Type: <class 'numpy.ndarray'>, Shape: (721, 1030, 3)\n",
      "Element 180 - Type: <class 'numpy.ndarray'>, Shape: (721, 1030, 3)\n",
      "Element 181 - Type: <class 'numpy.ndarray'>, Shape: (721, 1030, 3)\n",
      "Element 182 - Type: <class 'numpy.ndarray'>, Shape: (721, 1030, 3)\n",
      "Element 183 - Type: <class 'numpy.ndarray'>, Shape: (721, 1030, 3)\n",
      "Element 184 - Type: <class 'numpy.ndarray'>, Shape: (721, 1030, 3)\n",
      "Element 185 - Type: <class 'numpy.ndarray'>, Shape: (721, 1030, 3)\n",
      "Element 186 - Type: <class 'numpy.ndarray'>, Shape: (721, 1030, 3)\n",
      "Element 187 - Type: <class 'numpy.ndarray'>, Shape: (721, 1030, 3)\n",
      "Element 188 - Type: <class 'numpy.ndarray'>, Shape: (721, 1030, 3)\n",
      "Element 189 - Type: <class 'numpy.ndarray'>, Shape: (721, 1030, 3)\n",
      "Element 190 - Type: <class 'numpy.ndarray'>, Shape: (721, 1030, 3)\n",
      "Element 191 - Type: <class 'numpy.ndarray'>, Shape: (721, 1030, 3)\n",
      "Element 192 - Type: <class 'numpy.ndarray'>, Shape: (721, 1030, 3)\n",
      "Element 193 - Type: <class 'numpy.ndarray'>, Shape: (721, 1030, 3)\n",
      "Element 194 - Type: <class 'numpy.ndarray'>, Shape: (721, 1030, 3)\n",
      "Element 195 - Type: <class 'numpy.ndarray'>, Shape: (721, 1030, 3)\n",
      "Element 196 - Type: <class 'numpy.ndarray'>, Shape: (721, 1030, 3)\n",
      "Element 197 - Type: <class 'numpy.ndarray'>, Shape: (721, 1030, 3)\n",
      "Element 198 - Type: <class 'numpy.ndarray'>, Shape: (721, 1030, 3)\n",
      "Element 199 - Type: <class 'numpy.ndarray'>, Shape: (721, 1030, 3)\n",
      "Element 200 - Type: <class 'numpy.ndarray'>, Shape: (721, 1030, 3)\n",
      "Element 201 - Type: <class 'numpy.ndarray'>, Shape: (721, 1030, 3)\n",
      "Element 202 - Type: <class 'numpy.ndarray'>, Shape: (721, 1030, 3)\n",
      "Element 203 - Type: <class 'numpy.ndarray'>, Shape: (721, 1030, 3)\n",
      "Element 204 - Type: <class 'numpy.ndarray'>, Shape: (721, 1030, 3)\n",
      "Element 205 - Type: <class 'numpy.ndarray'>, Shape: (721, 1030, 3)\n",
      "Element 206 - Type: <class 'numpy.ndarray'>, Shape: (721, 1030, 3)\n",
      "Element 207 - Type: <class 'numpy.ndarray'>, Shape: (721, 1030, 3)\n",
      "Element 208 - Type: <class 'numpy.ndarray'>, Shape: (721, 1030, 3)\n",
      "Element 209 - Type: <class 'numpy.ndarray'>, Shape: (721, 1030, 3)\n",
      "Element 210 - Type: <class 'numpy.ndarray'>, Shape: (721, 1030, 3)\n",
      "Element 211 - Type: <class 'numpy.ndarray'>, Shape: (721, 1030, 3)\n",
      "Element 212 - Type: <class 'numpy.ndarray'>, Shape: (721, 1030, 3)\n",
      "Element 213 - Type: <class 'numpy.ndarray'>, Shape: (721, 1030, 3)\n",
      "Element 214 - Type: <class 'numpy.ndarray'>, Shape: (721, 1030, 3)\n",
      "Element 215 - Type: <class 'numpy.ndarray'>, Shape: (721, 1030, 3)\n",
      "Element 216 - Type: <class 'numpy.ndarray'>, Shape: (721, 1030, 3)\n",
      "Element 217 - Type: <class 'numpy.ndarray'>, Shape: (721, 1030, 3)\n",
      "Element 218 - Type: <class 'numpy.ndarray'>, Shape: (721, 1030, 3)\n",
      "Element 219 - Type: <class 'numpy.ndarray'>, Shape: (721, 1030, 3)\n",
      "Element 220 - Type: <class 'numpy.ndarray'>, Shape: (721, 1030, 3)\n",
      "Element 221 - Type: <class 'numpy.ndarray'>, Shape: (721, 1030, 3)\n",
      "Element 222 - Type: <class 'numpy.ndarray'>, Shape: (721, 1030, 3)\n",
      "Element 223 - Type: <class 'numpy.ndarray'>, Shape: (721, 1030, 3)\n",
      "Element 224 - Type: <class 'numpy.ndarray'>, Shape: (721, 1030, 3)\n",
      "Element 225 - Type: <class 'numpy.ndarray'>, Shape: (721, 1030, 3)\n",
      "Element 226 - Type: <class 'numpy.ndarray'>, Shape: (721, 1030, 3)\n",
      "Element 227 - Type: <class 'numpy.ndarray'>, Shape: (721, 1030, 3)\n",
      "Element 228 - Type: <class 'numpy.ndarray'>, Shape: (721, 1030, 3)\n",
      "Element 229 - Type: <class 'numpy.ndarray'>, Shape: (721, 1030, 3)\n",
      "Element 230 - Type: <class 'numpy.ndarray'>, Shape: (721, 1030, 3)\n",
      "Element 231 - Type: <class 'numpy.ndarray'>, Shape: (721, 1030, 3)\n",
      "Element 232 - Type: <class 'numpy.ndarray'>, Shape: (721, 1030, 3)\n",
      "Element 233 - Type: <class 'numpy.ndarray'>, Shape: (721, 1030, 3)\n",
      "Element 234 - Type: <class 'numpy.ndarray'>, Shape: (721, 1030, 3)\n",
      "Element 235 - Type: <class 'numpy.ndarray'>, Shape: (721, 1030, 3)\n",
      "Element 236 - Type: <class 'numpy.ndarray'>, Shape: (721, 1030, 3)\n",
      "Element 237 - Type: <class 'numpy.ndarray'>, Shape: (721, 1030, 3)\n",
      "Element 238 - Type: <class 'numpy.ndarray'>, Shape: (721, 1030, 3)\n",
      "Element 239 - Type: <class 'numpy.ndarray'>, Shape: (721, 1030, 3)\n",
      "Element 240 - Type: <class 'numpy.ndarray'>, Shape: (721, 1030, 3)\n",
      "Element 241 - Type: <class 'numpy.ndarray'>, Shape: (721, 1030, 3)\n",
      "Element 242 - Type: <class 'numpy.ndarray'>, Shape: (721, 1030, 3)\n",
      "Element 243 - Type: <class 'numpy.ndarray'>, Shape: (721, 1030, 3)\n",
      "Element 244 - Type: <class 'numpy.ndarray'>, Shape: (721, 1030, 3)\n",
      "Element 245 - Type: <class 'numpy.ndarray'>, Shape: (721, 1030, 3)\n",
      "Element 246 - Type: <class 'numpy.ndarray'>, Shape: (721, 1030, 3)\n",
      "Element 247 - Type: <class 'numpy.ndarray'>, Shape: (721, 1030, 3)\n",
      "Element 248 - Type: <class 'numpy.ndarray'>, Shape: (721, 1030, 3)\n",
      "Element 249 - Type: <class 'numpy.ndarray'>, Shape: (721, 1030, 3)\n",
      "Element 250 - Type: <class 'numpy.ndarray'>, Shape: (721, 1030, 3)\n",
      "Element 251 - Type: <class 'numpy.ndarray'>, Shape: (721, 1030, 3)\n",
      "Element 252 - Type: <class 'numpy.ndarray'>, Shape: (721, 1030, 3)\n",
      "Element 253 - Type: <class 'numpy.ndarray'>, Shape: (721, 1030, 3)\n",
      "Element 254 - Type: <class 'numpy.ndarray'>, Shape: (721, 1030, 3)\n",
      "Element 255 - Type: <class 'numpy.ndarray'>, Shape: (721, 1030, 3)\n",
      "Element 256 - Type: <class 'numpy.ndarray'>, Shape: (721, 1030, 3)\n",
      "Element 257 - Type: <class 'numpy.ndarray'>, Shape: (721, 1030, 3)\n",
      "Element 258 - Type: <class 'numpy.ndarray'>, Shape: (721, 1030, 3)\n",
      "Element 259 - Type: <class 'numpy.ndarray'>, Shape: (721, 1030, 3)\n",
      "Element 260 - Type: <class 'numpy.ndarray'>, Shape: (721, 1030, 3)\n",
      "Element 261 - Type: <class 'numpy.ndarray'>, Shape: (721, 1030, 3)\n",
      "Element 262 - Type: <class 'numpy.ndarray'>, Shape: (721, 1030, 3)\n",
      "Element 263 - Type: <class 'numpy.ndarray'>, Shape: (721, 1030, 3)\n",
      "Element 264 - Type: <class 'numpy.ndarray'>, Shape: (721, 1030, 3)\n",
      "Element 265 - Type: <class 'numpy.ndarray'>, Shape: (721, 1030, 3)\n",
      "Element 266 - Type: <class 'numpy.ndarray'>, Shape: (721, 1030, 3)\n",
      "Element 267 - Type: <class 'numpy.ndarray'>, Shape: (721, 1030, 3)\n",
      "Element 268 - Type: <class 'numpy.ndarray'>, Shape: (721, 1030, 3)\n",
      "Element 269 - Type: <class 'numpy.ndarray'>, Shape: (721, 1030, 3)\n",
      "Element 270 - Type: <class 'numpy.ndarray'>, Shape: (721, 1030, 3)\n",
      "Element 271 - Type: <class 'numpy.ndarray'>, Shape: (721, 1030, 3)\n",
      "Element 272 - Type: <class 'numpy.ndarray'>, Shape: (721, 1030, 3)\n",
      "Element 273 - Type: <class 'numpy.ndarray'>, Shape: (721, 1030, 3)\n",
      "Element 274 - Type: <class 'numpy.ndarray'>, Shape: (721, 1030, 3)\n",
      "Element 275 - Type: <class 'numpy.ndarray'>, Shape: (721, 1030, 3)\n",
      "Element 276 - Type: <class 'numpy.ndarray'>, Shape: (721, 1030, 3)\n"
     ]
    }
   ],
   "source": [
    "# Assuming 'images' is your NumPy array of images\n",
    "for i, img in enumerate(images):\n",
    "    print(f\"Element {i} - Type: {type(img)}, Shape: {img.shape}\")\n"
   ]
  },
  {
   "cell_type": "markdown",
   "metadata": {},
   "source": [
    "normalize the images by dividing by 255 and turning the values into a np.float32"
   ]
  },
  {
   "cell_type": "code",
   "execution_count": 10,
   "metadata": {},
   "outputs": [],
   "source": [
    "images_float32 = [img.astype(np.float32) / 255.0 for img in images]\n",
    "images_float32 = np.array(images_float32)"
   ]
  },
  {
   "cell_type": "markdown",
   "metadata": {},
   "source": [
    "initialize three label encoder objects for each category.\n",
    "Each colum of the labels (trend, phase, after) are turned into numeral format\n",
    "uses list slicing to select rows from each column."
   ]
  },
  {
   "cell_type": "code",
   "execution_count": 11,
   "metadata": {},
   "outputs": [],
   "source": [
    "label_encoder_trend = LabelEncoder()\n",
    "label_encoder_phase = LabelEncoder()\n",
    "label_encoder_after = LabelEncoder()\n",
    "\n",
    "labels[:, 0] = label_encoder_trend.fit_transform(labels[:, 0])\n",
    "labels[:, 1] = label_encoder_phase.fit_transform(labels[:, 1])\n",
    "labels[:, 2] = label_encoder_after.fit_transform(labels[:, 2])"
   ]
  },
  {
   "cell_type": "markdown",
   "metadata": {},
   "source": [
    "use sklearn train test split to split up the training and testing data 80/20"
   ]
  },
  {
   "cell_type": "code",
   "execution_count": 12,
   "metadata": {},
   "outputs": [],
   "source": [
    "X_train, X_test, y_train, y_test = train_test_split(images_float32, labels, test_size = 0.2, random_state = 42)"
   ]
  },
  {
   "cell_type": "code",
   "execution_count": null,
   "metadata": {},
   "outputs": [],
   "source": [
    "'''\n",
    "y_train_one_hot = []\n",
    "for category_labels in y_train.T:\n",
    "    category_onehot = to_categorical(category_labels)\n",
    "    y_train_one_hot.append(category_onehot)\n",
    "y_test_one_hot = []\n",
    "for category_labels in y_test.T:\n",
    "    category_onehot = to_categorical(category_labels)\n",
    "    y_test_one_hot.append(category_onehot)\n",
    "\n",
    "y_train_one_hot = np.concatenate(y_train_one_hot, axis=1)\n",
    "y_test_one_hot = np.concatenate(y_test_one_hot, axis=1)\n",
    "'''"
   ]
  },
  {
   "cell_type": "code",
   "execution_count": 14,
   "metadata": {},
   "outputs": [],
   "source": [
    "y_train_one_hot = [to_categorical(label, num_classes=num_classes) for label, num_classes in zip(y_train.T, [3, 3, 4])]\n",
    "y_test_one_hot = [to_categorical(label, num_classes=num_classes) for label, num_classes in zip(y_test.T, [3, 3, 4])]"
   ]
  },
  {
   "cell_type": "code",
   "execution_count": 20,
   "metadata": {},
   "outputs": [
    {
     "name": "stdout",
     "output_type": "stream",
     "text": [
      "[array([[0., 1., 0.],\n",
      "       [1., 0., 0.],\n",
      "       [0., 0., 1.],\n",
      "       [1., 0., 0.],\n",
      "       [0., 0., 1.],\n",
      "       [0., 0., 1.],\n",
      "       [1., 0., 0.],\n",
      "       [0., 0., 1.],\n",
      "       [0., 1., 0.],\n",
      "       [0., 0., 1.],\n",
      "       [0., 0., 1.],\n",
      "       [1., 0., 0.],\n",
      "       [1., 0., 0.],\n",
      "       [1., 0., 0.],\n",
      "       [1., 0., 0.],\n",
      "       [1., 0., 0.],\n",
      "       [0., 0., 1.],\n",
      "       [1., 0., 0.],\n",
      "       [1., 0., 0.],\n",
      "       [0., 0., 1.],\n",
      "       [1., 0., 0.],\n",
      "       [1., 0., 0.],\n",
      "       [0., 0., 1.],\n",
      "       [0., 1., 0.],\n",
      "       [0., 0., 1.],\n",
      "       [1., 0., 0.],\n",
      "       [1., 0., 0.],\n",
      "       [0., 0., 1.],\n",
      "       [0., 1., 0.],\n",
      "       [1., 0., 0.],\n",
      "       [1., 0., 0.],\n",
      "       [0., 0., 1.],\n",
      "       [0., 1., 0.],\n",
      "       [1., 0., 0.],\n",
      "       [0., 0., 1.],\n",
      "       [0., 0., 1.],\n",
      "       [0., 0., 1.],\n",
      "       [0., 0., 1.],\n",
      "       [0., 1., 0.],\n",
      "       [1., 0., 0.],\n",
      "       [1., 0., 0.],\n",
      "       [0., 0., 1.],\n",
      "       [0., 0., 1.],\n",
      "       [0., 0., 1.],\n",
      "       [0., 0., 1.],\n",
      "       [1., 0., 0.],\n",
      "       [1., 0., 0.],\n",
      "       [0., 0., 1.],\n",
      "       [1., 0., 0.],\n",
      "       [0., 0., 1.],\n",
      "       [1., 0., 0.],\n",
      "       [0., 0., 1.],\n",
      "       [1., 0., 0.],\n",
      "       [1., 0., 0.],\n",
      "       [0., 0., 1.],\n",
      "       [0., 0., 1.]]), array([[1., 0., 0.],\n",
      "       [0., 1., 0.],\n",
      "       [0., 0., 1.],\n",
      "       [1., 0., 0.],\n",
      "       [0., 1., 0.],\n",
      "       [0., 1., 0.],\n",
      "       [1., 0., 0.],\n",
      "       [1., 0., 0.],\n",
      "       [1., 0., 0.],\n",
      "       [1., 0., 0.],\n",
      "       [0., 0., 1.],\n",
      "       [0., 0., 1.],\n",
      "       [1., 0., 0.],\n",
      "       [0., 1., 0.],\n",
      "       [0., 1., 0.],\n",
      "       [1., 0., 0.],\n",
      "       [1., 0., 0.],\n",
      "       [0., 0., 1.],\n",
      "       [0., 0., 1.],\n",
      "       [0., 0., 1.],\n",
      "       [0., 0., 1.],\n",
      "       [0., 1., 0.],\n",
      "       [0., 1., 0.],\n",
      "       [1., 0., 0.],\n",
      "       [0., 1., 0.],\n",
      "       [0., 0., 1.],\n",
      "       [0., 1., 0.],\n",
      "       [0., 1., 0.],\n",
      "       [1., 0., 0.],\n",
      "       [0., 1., 0.],\n",
      "       [1., 0., 0.],\n",
      "       [0., 0., 1.],\n",
      "       [1., 0., 0.],\n",
      "       [0., 1., 0.],\n",
      "       [0., 1., 0.],\n",
      "       [1., 0., 0.],\n",
      "       [0., 1., 0.],\n",
      "       [0., 1., 0.],\n",
      "       [0., 0., 1.],\n",
      "       [0., 1., 0.],\n",
      "       [0., 0., 1.],\n",
      "       [1., 0., 0.],\n",
      "       [1., 0., 0.],\n",
      "       [0., 0., 1.],\n",
      "       [1., 0., 0.],\n",
      "       [0., 1., 0.],\n",
      "       [0., 0., 1.],\n",
      "       [0., 0., 1.],\n",
      "       [1., 0., 0.],\n",
      "       [1., 0., 0.],\n",
      "       [0., 1., 0.],\n",
      "       [1., 0., 0.],\n",
      "       [1., 0., 0.],\n",
      "       [0., 1., 0.],\n",
      "       [1., 0., 0.],\n",
      "       [1., 0., 0.]]), array([[0., 0., 0., 1.],\n",
      "       [1., 0., 0., 0.],\n",
      "       [0., 0., 0., 1.],\n",
      "       [0., 0., 0., 1.],\n",
      "       [0., 1., 0., 0.],\n",
      "       [0., 0., 1., 0.],\n",
      "       [1., 0., 0., 0.],\n",
      "       [0., 0., 0., 1.],\n",
      "       [0., 0., 0., 1.],\n",
      "       [0., 0., 1., 0.],\n",
      "       [0., 0., 0., 1.],\n",
      "       [0., 0., 0., 1.],\n",
      "       [0., 1., 0., 0.],\n",
      "       [1., 0., 0., 0.],\n",
      "       [0., 1., 0., 0.],\n",
      "       [0., 0., 0., 1.],\n",
      "       [0., 0., 0., 1.],\n",
      "       [0., 1., 0., 0.],\n",
      "       [0., 0., 1., 0.],\n",
      "       [0., 0., 1., 0.],\n",
      "       [0., 0., 0., 1.],\n",
      "       [0., 0., 0., 1.],\n",
      "       [0., 1., 0., 0.],\n",
      "       [0., 0., 0., 1.],\n",
      "       [0., 0., 1., 0.],\n",
      "       [0., 1., 0., 0.],\n",
      "       [0., 0., 1., 0.],\n",
      "       [0., 0., 0., 1.],\n",
      "       [0., 0., 0., 1.],\n",
      "       [0., 0., 1., 0.],\n",
      "       [0., 1., 0., 0.],\n",
      "       [0., 0., 0., 1.],\n",
      "       [0., 0., 0., 1.],\n",
      "       [0., 1., 0., 0.],\n",
      "       [0., 1., 0., 0.],\n",
      "       [0., 0., 0., 1.],\n",
      "       [0., 1., 0., 0.],\n",
      "       [0., 0., 0., 1.],\n",
      "       [0., 0., 0., 1.],\n",
      "       [0., 0., 0., 1.],\n",
      "       [0., 0., 0., 1.],\n",
      "       [0., 0., 0., 1.],\n",
      "       [0., 0., 1., 0.],\n",
      "       [0., 0., 0., 1.],\n",
      "       [1., 0., 0., 0.],\n",
      "       [0., 1., 0., 0.],\n",
      "       [1., 0., 0., 0.],\n",
      "       [1., 0., 0., 0.],\n",
      "       [0., 0., 0., 1.],\n",
      "       [0., 0., 0., 1.],\n",
      "       [1., 0., 0., 0.],\n",
      "       [0., 0., 1., 0.],\n",
      "       [0., 0., 0., 1.],\n",
      "       [0., 0., 0., 1.],\n",
      "       [0., 0., 0., 1.],\n",
      "       [0., 0., 0., 1.]])]\n"
     ]
    }
   ],
   "source": [
    "print(y_test_one_hot)"
   ]
  },
  {
   "cell_type": "markdown",
   "metadata": {},
   "source": [
    "basic CNN model:\n",
    "input layer specifies shape of the input data\n",
    "convolutional layer specifies 32 filters and a kernal size of (3,3) using ReLU activation function.\n",
    "flatten layer flattens the output of previous convolutional layer into a 1D array.\n",
    "dense layer is the fully connected layer with 3 units for the 3 output of classes."
   ]
  },
  {
   "cell_type": "code",
   "execution_count": 21,
   "metadata": {},
   "outputs": [],
   "source": [
    "model = tf.keras.Sequential()\n",
    "model.add(Input(shape = (721, 1030, 3)))\n",
    "model.add(tf.keras.layers.Conv2D(32, (3,3), activation = 'relu'))\n",
    "model.add(tf.keras.layers.Flatten())\n",
    "model.add(tf.keras.layers.Dense(3, activation = 'softmax'))"
   ]
  },
  {
   "cell_type": "markdown",
   "metadata": {},
   "source": [
    "compile the model with adam optimizer and loss function of categorical crossentropy (used for multi class classification)"
   ]
  },
  {
   "cell_type": "code",
   "execution_count": 22,
   "metadata": {},
   "outputs": [],
   "source": [
    "model.compile(optimizer='adam', loss='categorical_crossentropy', metrics=['accuracy'])"
   ]
  },
  {
   "cell_type": "markdown",
   "metadata": {},
   "source": [
    "summary of model showing all parameters.\n",
    "paramters are the amount of weights/biases that can be adjusted by the neural network to affect the overall outcome."
   ]
  },
  {
   "cell_type": "code",
   "execution_count": 23,
   "metadata": {},
   "outputs": [
    {
     "data": {
      "text/html": [
       "<pre style=\"white-space:pre;overflow-x:auto;line-height:normal;font-family:Menlo,'DejaVu Sans Mono',consolas,'Courier New',monospace\"><span style=\"font-weight: bold\">Model: \"sequential\"</span>\n",
       "</pre>\n"
      ],
      "text/plain": [
       "\u001b[1mModel: \"sequential\"\u001b[0m\n"
      ]
     },
     "metadata": {},
     "output_type": "display_data"
    },
    {
     "data": {
      "text/html": [
       "<pre style=\"white-space:pre;overflow-x:auto;line-height:normal;font-family:Menlo,'DejaVu Sans Mono',consolas,'Courier New',monospace\">┏━━━━━━━━━━━━━━━━━━━━━━━━━━━━━━━━━┳━━━━━━━━━━━━━━━━━━━━━━━━┳━━━━━━━━━━━━━━━┓\n",
       "┃<span style=\"font-weight: bold\"> Layer (type)                    </span>┃<span style=\"font-weight: bold\"> Output Shape           </span>┃<span style=\"font-weight: bold\">       Param # </span>┃\n",
       "┡━━━━━━━━━━━━━━━━━━━━━━━━━━━━━━━━━╇━━━━━━━━━━━━━━━━━━━━━━━━╇━━━━━━━━━━━━━━━┩\n",
       "│ conv2d (<span style=\"color: #0087ff; text-decoration-color: #0087ff\">Conv2D</span>)                 │ (<span style=\"color: #00d7ff; text-decoration-color: #00d7ff\">None</span>, <span style=\"color: #00af00; text-decoration-color: #00af00\">719</span>, <span style=\"color: #00af00; text-decoration-color: #00af00\">1028</span>, <span style=\"color: #00af00; text-decoration-color: #00af00\">32</span>)  │           <span style=\"color: #00af00; text-decoration-color: #00af00\">896</span> │\n",
       "├─────────────────────────────────┼────────────────────────┼───────────────┤\n",
       "│ flatten (<span style=\"color: #0087ff; text-decoration-color: #0087ff\">Flatten</span>)               │ (<span style=\"color: #00d7ff; text-decoration-color: #00d7ff\">None</span>, <span style=\"color: #00af00; text-decoration-color: #00af00\">23652224</span>)       │             <span style=\"color: #00af00; text-decoration-color: #00af00\">0</span> │\n",
       "├─────────────────────────────────┼────────────────────────┼───────────────┤\n",
       "│ dense (<span style=\"color: #0087ff; text-decoration-color: #0087ff\">Dense</span>)                   │ (<span style=\"color: #00d7ff; text-decoration-color: #00d7ff\">None</span>, <span style=\"color: #00af00; text-decoration-color: #00af00\">3</span>)              │    <span style=\"color: #00af00; text-decoration-color: #00af00\">70,956,675</span> │\n",
       "└─────────────────────────────────┴────────────────────────┴───────────────┘\n",
       "</pre>\n"
      ],
      "text/plain": [
       "┏━━━━━━━━━━━━━━━━━━━━━━━━━━━━━━━━━┳━━━━━━━━━━━━━━━━━━━━━━━━┳━━━━━━━━━━━━━━━┓\n",
       "┃\u001b[1m \u001b[0m\u001b[1mLayer (type)                   \u001b[0m\u001b[1m \u001b[0m┃\u001b[1m \u001b[0m\u001b[1mOutput Shape          \u001b[0m\u001b[1m \u001b[0m┃\u001b[1m \u001b[0m\u001b[1m      Param #\u001b[0m\u001b[1m \u001b[0m┃\n",
       "┡━━━━━━━━━━━━━━━━━━━━━━━━━━━━━━━━━╇━━━━━━━━━━━━━━━━━━━━━━━━╇━━━━━━━━━━━━━━━┩\n",
       "│ conv2d (\u001b[38;5;33mConv2D\u001b[0m)                 │ (\u001b[38;5;45mNone\u001b[0m, \u001b[38;5;34m719\u001b[0m, \u001b[38;5;34m1028\u001b[0m, \u001b[38;5;34m32\u001b[0m)  │           \u001b[38;5;34m896\u001b[0m │\n",
       "├─────────────────────────────────┼────────────────────────┼───────────────┤\n",
       "│ flatten (\u001b[38;5;33mFlatten\u001b[0m)               │ (\u001b[38;5;45mNone\u001b[0m, \u001b[38;5;34m23652224\u001b[0m)       │             \u001b[38;5;34m0\u001b[0m │\n",
       "├─────────────────────────────────┼────────────────────────┼───────────────┤\n",
       "│ dense (\u001b[38;5;33mDense\u001b[0m)                   │ (\u001b[38;5;45mNone\u001b[0m, \u001b[38;5;34m3\u001b[0m)              │    \u001b[38;5;34m70,956,675\u001b[0m │\n",
       "└─────────────────────────────────┴────────────────────────┴───────────────┘\n"
      ]
     },
     "metadata": {},
     "output_type": "display_data"
    },
    {
     "data": {
      "text/html": [
       "<pre style=\"white-space:pre;overflow-x:auto;line-height:normal;font-family:Menlo,'DejaVu Sans Mono',consolas,'Courier New',monospace\"><span style=\"font-weight: bold\"> Total params: </span><span style=\"color: #00af00; text-decoration-color: #00af00\">70,957,571</span> (270.68 MB)\n",
       "</pre>\n"
      ],
      "text/plain": [
       "\u001b[1m Total params: \u001b[0m\u001b[38;5;34m70,957,571\u001b[0m (270.68 MB)\n"
      ]
     },
     "metadata": {},
     "output_type": "display_data"
    },
    {
     "data": {
      "text/html": [
       "<pre style=\"white-space:pre;overflow-x:auto;line-height:normal;font-family:Menlo,'DejaVu Sans Mono',consolas,'Courier New',monospace\"><span style=\"font-weight: bold\"> Trainable params: </span><span style=\"color: #00af00; text-decoration-color: #00af00\">70,957,571</span> (270.68 MB)\n",
       "</pre>\n"
      ],
      "text/plain": [
       "\u001b[1m Trainable params: \u001b[0m\u001b[38;5;34m70,957,571\u001b[0m (270.68 MB)\n"
      ]
     },
     "metadata": {},
     "output_type": "display_data"
    },
    {
     "data": {
      "text/html": [
       "<pre style=\"white-space:pre;overflow-x:auto;line-height:normal;font-family:Menlo,'DejaVu Sans Mono',consolas,'Courier New',monospace\"><span style=\"font-weight: bold\"> Non-trainable params: </span><span style=\"color: #00af00; text-decoration-color: #00af00\">0</span> (0.00 B)\n",
       "</pre>\n"
      ],
      "text/plain": [
       "\u001b[1m Non-trainable params: \u001b[0m\u001b[38;5;34m0\u001b[0m (0.00 B)\n"
      ]
     },
     "metadata": {},
     "output_type": "display_data"
    }
   ],
   "source": [
    "model.summary()"
   ]
  },
  {
   "cell_type": "markdown",
   "metadata": {},
   "source": [
    "train the model with the dataset specifying hyper parameters.\n",
    "epoch: number of times the dataset is put through the model\n",
    "batch: number of training data that goes into the model at one learning session at a time."
   ]
  },
  {
   "cell_type": "code",
   "execution_count": 24,
   "metadata": {},
   "outputs": [
    {
     "name": "stdout",
     "output_type": "stream",
     "text": [
      "Epoch 1/5\n",
      "\u001b[1m7/7\u001b[0m \u001b[32m━━━━━━━━━━━━━━━━━━━━\u001b[0m\u001b[37m\u001b[0m \u001b[1m31s\u001b[0m 4s/step - accuracy: 0.3754 - loss: 2133.8582 - val_accuracy: 0.4464 - val_loss: 1365.1188\n",
      "Epoch 2/5\n",
      "\u001b[1m7/7\u001b[0m \u001b[32m━━━━━━━━━━━━━━━━━━━━\u001b[0m\u001b[37m\u001b[0m \u001b[1m30s\u001b[0m 4s/step - accuracy: 0.4633 - loss: 785.2386 - val_accuracy: 0.4464 - val_loss: 765.8047\n",
      "Epoch 3/5\n",
      "\u001b[1m7/7\u001b[0m \u001b[32m━━━━━━━━━━━━━━━━━━━━\u001b[0m\u001b[37m\u001b[0m \u001b[1m31s\u001b[0m 4s/step - accuracy: 0.4195 - loss: 440.3763 - val_accuracy: 0.1071 - val_loss: 408.6841\n",
      "Epoch 4/5\n",
      "\u001b[1m7/7\u001b[0m \u001b[32m━━━━━━━━━━━━━━━━━━━━\u001b[0m\u001b[37m\u001b[0m \u001b[1m30s\u001b[0m 4s/step - accuracy: 0.3561 - loss: 257.1189 - val_accuracy: 0.4464 - val_loss: 213.9089\n",
      "Epoch 5/5\n",
      "\u001b[1m7/7\u001b[0m \u001b[32m━━━━━━━━━━━━━━━━━━━━\u001b[0m\u001b[37m\u001b[0m \u001b[1m30s\u001b[0m 4s/step - accuracy: 0.5637 - loss: 103.9814 - val_accuracy: 0.7143 - val_loss: 24.6161\n"
     ]
    },
    {
     "data": {
      "text/plain": [
       "<keras.src.callbacks.history.History at 0x1341a54fe80>"
      ]
     },
     "execution_count": 24,
     "metadata": {},
     "output_type": "execute_result"
    }
   ],
   "source": [
    "model.fit(X_train, y_train_one_hot, epochs = 5, batch_size = 32, validation_data = (X_test, y_test_one_hot))"
   ]
  },
  {
   "cell_type": "markdown",
   "metadata": {},
   "source": [
    "get results of the model from the built in evaulation tool\n",
    "Takes accuracy as the metric.\n",
    "accuracy = # of correctly predicted samples / total number of samples"
   ]
  },
  {
   "cell_type": "code",
   "execution_count": 25,
   "metadata": {},
   "outputs": [
    {
     "name": "stdout",
     "output_type": "stream",
     "text": [
      "\u001b[1m2/2\u001b[0m \u001b[32m━━━━━━━━━━━━━━━━━━━━\u001b[0m\u001b[37m\u001b[0m \u001b[1m1s\u001b[0m 569ms/step - accuracy: 0.6949 - loss: 25.0044\n",
      "Evaluation results: [24.61612892150879, 0.7142857313156128]\n"
     ]
    }
   ],
   "source": [
    "evaluation_results = model.evaluate(X_test, y_test_one_hot)\n",
    "print(\"Evaluation results:\", evaluation_results)"
   ]
  },
  {
   "cell_type": "markdown",
   "metadata": {},
   "source": [
    "obtain predictions for the x_test data to compare with the actual testing y data as ground truths."
   ]
  },
  {
   "cell_type": "code",
   "execution_count": 26,
   "metadata": {},
   "outputs": [
    {
     "name": "stdout",
     "output_type": "stream",
     "text": [
      "\u001b[1m2/2\u001b[0m \u001b[32m━━━━━━━━━━━━━━━━━━━━\u001b[0m\u001b[37m\u001b[0m \u001b[1m2s\u001b[0m 628ms/step\n"
     ]
    }
   ],
   "source": [
    "# Predict classes\n",
    "y_pred = model.predict(X_test)\n",
    "y_true = y_test"
   ]
  },
  {
   "cell_type": "code",
   "execution_count": 41,
   "metadata": {},
   "outputs": [
    {
     "name": "stdout",
     "output_type": "stream",
     "text": [
      "[1.0000000e+00 0.0000000e+00 1.2987766e-12]\n",
      "[1 0 3]\n"
     ]
    }
   ],
   "source": [
    "print(y_pred[0])\n",
    "print(y_true[0])"
   ]
  },
  {
   "cell_type": "markdown",
   "metadata": {},
   "source": []
  },
  {
   "cell_type": "code",
   "execution_count": 28,
   "metadata": {},
   "outputs": [],
   "source": [
    "y_pred_classes = np.argmax(y_pred, axis=1)\n",
    "y_true_classes = np.argmax(y_true, axis=1)"
   ]
  },
  {
   "cell_type": "code",
   "execution_count": 29,
   "metadata": {},
   "outputs": [],
   "source": [
    "\"\"\"y_pred_trend = label_encoder_trend.inverse_transform(y_pred_classes)\n",
    "y_true_trend = label_encoder_trend.inverse_transform(y_true_classes)\n",
    "\n",
    "y_pred_phase = label_encoder_phase.inverse_transform(y_pred_classes)\n",
    "y_true_phase = label_encoder_phase.inverse_transform(y_true_classes)\n",
    "\n",
    "y_pred_after = label_encoder_after.inverse_transform(y_pred_classes)\n",
    "y_true_after = label_encoder_after.inverse_transform(y_true_classes)\n",
    "\"\"\""
   ]
  },
  {
   "cell_type": "code",
   "execution_count": 36,
   "metadata": {},
   "outputs": [],
   "source": [
    "decoded_classes_trend = label_encoder_trend.inverse_transform(range(len(label_encoder_trend.classes_)))\n",
    "decoded_classes_phase = label_encoder_phase.inverse_transform(range(len(label_encoder_phase.classes_)))\n",
    "decoded_classes_after = label_encoder_after.inverse_transform(range(len(label_encoder_after.classes_)))"
   ]
  },
  {
   "cell_type": "code",
   "execution_count": 40,
   "metadata": {},
   "outputs": [
    {
     "name": "stdout",
     "output_type": "stream",
     "text": [
      "Classification Report (Trend):\n",
      "              precision    recall  f1-score   support\n",
      "\n",
      "        down       0.14      0.23      0.17        13\n",
      "    no trend       0.00      0.00      0.00        10\n",
      "          up       0.53      0.55      0.54        33\n",
      "\n",
      "    accuracy                           0.38        56\n",
      "   macro avg       0.22      0.26      0.24        56\n",
      "weighted avg       0.34      0.38      0.36        56\n",
      "\n"
     ]
    },
    {
     "name": "stderr",
     "output_type": "stream",
     "text": [
      "c:\\Users\\Andy\\AppData\\Local\\Programs\\Python\\Python310\\lib\\site-packages\\sklearn\\metrics\\_classification.py:1344: UndefinedMetricWarning: Precision and F-score are ill-defined and being set to 0.0 in labels with no predicted samples. Use `zero_division` parameter to control this behavior.\n",
      "  _warn_prf(average, modifier, msg_start, len(result))\n",
      "c:\\Users\\Andy\\AppData\\Local\\Programs\\Python\\Python310\\lib\\site-packages\\sklearn\\metrics\\_classification.py:1344: UndefinedMetricWarning: Precision and F-score are ill-defined and being set to 0.0 in labels with no predicted samples. Use `zero_division` parameter to control this behavior.\n",
      "  _warn_prf(average, modifier, msg_start, len(result))\n",
      "c:\\Users\\Andy\\AppData\\Local\\Programs\\Python\\Python310\\lib\\site-packages\\sklearn\\metrics\\_classification.py:1344: UndefinedMetricWarning: Precision and F-score are ill-defined and being set to 0.0 in labels with no predicted samples. Use `zero_division` parameter to control this behavior.\n",
      "  _warn_prf(average, modifier, msg_start, len(result))\n"
     ]
    }
   ],
   "source": [
    "print(\"Classification Report (Trend):\")\n",
    "#print(classification_report(y_true_trend, y_pred_trend))\n",
    "print(classification_report(y_true_classes, y_pred_classes, target_names=decoded_classes_trend))\n",
    "# Classification report for \"phase\" category\n",
    "#print(\"Classification Report (Phase):\")\n",
    "#print(classification_report(y_true_phase, y_pred_phase))\n",
    "\n",
    "# Classification report for \"after\" category\n",
    "#print(\"Classification Report (After):\")\n",
    "#print(classification_report(y_true_after, y_pred_after))"
   ]
  },
  {
   "cell_type": "code",
   "execution_count": 31,
   "metadata": {},
   "outputs": [
    {
     "name": "stdout",
     "output_type": "stream",
     "text": [
      "Confusion Matrix:\n",
      "[[ 3  0 10]\n",
      " [ 4  0  6]\n",
      " [15  0 18]]\n"
     ]
    }
   ],
   "source": [
    "conf_matrix = confusion_matrix(y_true_classes, y_pred_classes)\n",
    "print(\"Confusion Matrix:\")\n",
    "print(conf_matrix)"
   ]
  },
  {
   "cell_type": "code",
   "execution_count": 37,
   "metadata": {},
   "outputs": [
    {
     "data": {
      "image/png": "[encoded data removed]",
      "text/plain": [
       "<Figure size 576x432 with 2 Axes>"
      ]
     },
     "metadata": {
      "needs_background": "light"
     },
     "output_type": "display_data"
    }
   ],
   "source": [
    "# Confusion Matrix Heatmap\n",
    "plt.figure(figsize=(8, 6))\n",
    "sns.heatmap(conf_matrix, annot=True, fmt='d', cmap='Blues', xticklabels=decoded_classes_trend, yticklabels=decoded_classes_trend)\n",
    "plt.xlabel('Predicted Class')\n",
    "plt.ylabel('True Class')\n",
    "plt.title('Confusion Matrix')\n",
    "plt.show()"
   ]
  },
  {
   "cell_type": "code",
   "execution_count": null,
   "metadata": {},
   "outputs": [],
   "source": [
    "#model.save('tradebot_v1.keras')"
   ]
  }
 ],
 "metadata": {
  "kernelspec": {
   "display_name": "Python 3",
   "language": "python",
   "name": "python3"
  },
  "language_info": {
   "codemirror_mode": {
    "name": "ipython",
    "version": 3
   },
   "file_extension": ".py",
   "mimetype": "text/x-python",
   "name": "python",
   "nbconvert_exporter": "python",
   "pygments_lexer": "ipython3",
   "version": "3.10.4"
  }
 },
 "nbformat": 4,
 "nbformat_minor": 2
}

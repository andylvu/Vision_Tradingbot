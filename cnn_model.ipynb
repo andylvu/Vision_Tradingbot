{
 "cells": [
  {
   "cell_type": "code",
   "execution_count": 77,
   "metadata": {},
   "outputs": [],
   "source": [
    "import sqlite3\n",
    "import numpy as np\n",
    "import cv2\n",
    "from PIL import Image\n",
    "from io import BytesIO\n",
    "import tensorflow as tf\n",
    "import pandas as pd\n",
    "from sklearn.model_selection import train_test_split\n",
    "import matplotlib.pyplot as plt"
   ]
  },
  {
   "cell_type": "markdown",
   "metadata": {},
   "source": [
    "import all libraries needed for this project"
   ]
  },
  {
   "cell_type": "code",
   "execution_count": 78,
   "metadata": {},
   "outputs": [],
   "source": [
    "conn = sqlite3.connect('C:/Users/Andy/Documents/vscode/Vision_Tradingbot/andy/trading_data.db')"
   ]
  },
  {
   "cell_type": "markdown",
   "metadata": {},
   "source": [
    "setup a connection to the stored database.\n",
    "As of now march 9th, the database is stored locally, however the future plan is to host this\n",
    "database on AWS using RDS MySQL"
   ]
  },
  {
   "cell_type": "code",
   "execution_count": 79,
   "metadata": {},
   "outputs": [
    {
     "data": {
      "text/html": [
       "<div>\n",
       "<style scoped>\n",
       "    .dataframe tbody tr th:only-of-type {\n",
       "        vertical-align: middle;\n",
       "    }\n",
       "\n",
       "    .dataframe tbody tr th {\n",
       "        vertical-align: top;\n",
       "    }\n",
       "\n",
       "    .dataframe thead th {\n",
       "        text-align: right;\n",
       "    }\n",
       "</style>\n",
       "<table border=\"1\" class=\"dataframe\">\n",
       "  <thead>\n",
       "    <tr style=\"text-align: right;\">\n",
       "      <th></th>\n",
       "      <th>id</th>\n",
       "      <th>image_data</th>\n",
       "      <th>tradable</th>\n",
       "      <th>trend</th>\n",
       "      <th>phase</th>\n",
       "      <th>after</th>\n",
       "    </tr>\n",
       "  </thead>\n",
       "  <tbody>\n",
       "    <tr>\n",
       "      <th>0</th>\n",
       "      <td>5</td>\n",
       "      <td>b'\\x89PNG\\r\\n\\x1a\\n\\x00\\x00\\x00\\rIHDR\\x00\\x00\\...</td>\n",
       "      <td>yes</td>\n",
       "      <td>up</td>\n",
       "      <td>pullback</td>\n",
       "      <td>continues pull back</td>\n",
       "    </tr>\n",
       "    <tr>\n",
       "      <th>1</th>\n",
       "      <td>6</td>\n",
       "      <td>b'\\x89PNG\\r\\n\\x1a\\n\\x00\\x00\\x00\\rIHDR\\x00\\x00\\...</td>\n",
       "      <td>yes</td>\n",
       "      <td>down</td>\n",
       "      <td>pullback</td>\n",
       "      <td>continues trend</td>\n",
       "    </tr>\n",
       "    <tr>\n",
       "      <th>2</th>\n",
       "      <td>7</td>\n",
       "      <td>b'\\x89PNG\\r\\n\\x1a\\n\\x00\\x00\\x00\\rIHDR\\x00\\x00\\...</td>\n",
       "      <td>yes</td>\n",
       "      <td>down</td>\n",
       "      <td>pullback</td>\n",
       "      <td>breaks structure and reverses</td>\n",
       "    </tr>\n",
       "    <tr>\n",
       "      <th>3</th>\n",
       "      <td>8</td>\n",
       "      <td>b'\\x89PNG\\r\\n\\x1a\\n\\x00\\x00\\x00\\rIHDR\\x00\\x00\\...</td>\n",
       "      <td>yes</td>\n",
       "      <td>down</td>\n",
       "      <td>consolidation</td>\n",
       "      <td>continues trend</td>\n",
       "    </tr>\n",
       "    <tr>\n",
       "      <th>4</th>\n",
       "      <td>9</td>\n",
       "      <td>b'\\x89PNG\\r\\n\\x1a\\n\\x00\\x00\\x00\\rIHDR\\x00\\x00\\...</td>\n",
       "      <td>yes</td>\n",
       "      <td>down</td>\n",
       "      <td>pullback</td>\n",
       "      <td>continues trend</td>\n",
       "    </tr>\n",
       "    <tr>\n",
       "      <th>...</th>\n",
       "      <td>...</td>\n",
       "      <td>...</td>\n",
       "      <td>...</td>\n",
       "      <td>...</td>\n",
       "      <td>...</td>\n",
       "      <td>...</td>\n",
       "    </tr>\n",
       "    <tr>\n",
       "      <th>295</th>\n",
       "      <td>300</td>\n",
       "      <td>b'\\x89PNG\\r\\n\\x1a\\n\\x00\\x00\\x00\\rIHDR\\x00\\x00\\...</td>\n",
       "      <td>yes</td>\n",
       "      <td>down</td>\n",
       "      <td>pullback</td>\n",
       "      <td>consolidates/no trend</td>\n",
       "    </tr>\n",
       "    <tr>\n",
       "      <th>297</th>\n",
       "      <td>302</td>\n",
       "      <td>b'\\x89PNG\\r\\n\\x1a\\n\\x00\\x00\\x00\\rIHDR\\x00\\x00\\...</td>\n",
       "      <td>yes</td>\n",
       "      <td>down</td>\n",
       "      <td>consolidation</td>\n",
       "      <td>breaks structure and reverses</td>\n",
       "    </tr>\n",
       "    <tr>\n",
       "      <th>298</th>\n",
       "      <td>303</td>\n",
       "      <td>b'\\x89PNG\\r\\n\\x1a\\n\\x00\\x00\\x00\\rIHDR\\x00\\x00\\...</td>\n",
       "      <td>yes</td>\n",
       "      <td>up</td>\n",
       "      <td>pullback</td>\n",
       "      <td>continues pull back</td>\n",
       "    </tr>\n",
       "    <tr>\n",
       "      <th>299</th>\n",
       "      <td>304</td>\n",
       "      <td>b'\\x89PNG\\r\\n\\x1a\\n\\x00\\x00\\x00\\rIHDR\\x00\\x00\\...</td>\n",
       "      <td>yes</td>\n",
       "      <td>down</td>\n",
       "      <td>pullback</td>\n",
       "      <td>continues trend</td>\n",
       "    </tr>\n",
       "    <tr>\n",
       "      <th>300</th>\n",
       "      <td>305</td>\n",
       "      <td>b'\\x89PNG\\r\\n\\x1a\\n\\x00\\x00\\x00\\rIHDR\\x00\\x00\\...</td>\n",
       "      <td>yes</td>\n",
       "      <td>down</td>\n",
       "      <td>consolidation</td>\n",
       "      <td>continues trend</td>\n",
       "    </tr>\n",
       "  </tbody>\n",
       "</table>\n",
       "<p>277 rows × 6 columns</p>\n",
       "</div>"
      ],
      "text/plain": [
       "      id                                         image_data tradable trend  \\\n",
       "0      5  b'\\x89PNG\\r\\n\\x1a\\n\\x00\\x00\\x00\\rIHDR\\x00\\x00\\...      yes    up   \n",
       "1      6  b'\\x89PNG\\r\\n\\x1a\\n\\x00\\x00\\x00\\rIHDR\\x00\\x00\\...      yes  down   \n",
       "2      7  b'\\x89PNG\\r\\n\\x1a\\n\\x00\\x00\\x00\\rIHDR\\x00\\x00\\...      yes  down   \n",
       "3      8  b'\\x89PNG\\r\\n\\x1a\\n\\x00\\x00\\x00\\rIHDR\\x00\\x00\\...      yes  down   \n",
       "4      9  b'\\x89PNG\\r\\n\\x1a\\n\\x00\\x00\\x00\\rIHDR\\x00\\x00\\...      yes  down   \n",
       "..   ...                                                ...      ...   ...   \n",
       "295  300  b'\\x89PNG\\r\\n\\x1a\\n\\x00\\x00\\x00\\rIHDR\\x00\\x00\\...      yes  down   \n",
       "297  302  b'\\x89PNG\\r\\n\\x1a\\n\\x00\\x00\\x00\\rIHDR\\x00\\x00\\...      yes  down   \n",
       "298  303  b'\\x89PNG\\r\\n\\x1a\\n\\x00\\x00\\x00\\rIHDR\\x00\\x00\\...      yes    up   \n",
       "299  304  b'\\x89PNG\\r\\n\\x1a\\n\\x00\\x00\\x00\\rIHDR\\x00\\x00\\...      yes  down   \n",
       "300  305  b'\\x89PNG\\r\\n\\x1a\\n\\x00\\x00\\x00\\rIHDR\\x00\\x00\\...      yes  down   \n",
       "\n",
       "             phase                          after  \n",
       "0         pullback            continues pull back  \n",
       "1         pullback                continues trend  \n",
       "2         pullback  breaks structure and reverses  \n",
       "3    consolidation                continues trend  \n",
       "4         pullback                continues trend  \n",
       "..             ...                            ...  \n",
       "295       pullback          consolidates/no trend  \n",
       "297  consolidation  breaks structure and reverses  \n",
       "298       pullback            continues pull back  \n",
       "299       pullback                continues trend  \n",
       "300  consolidation                continues trend  \n",
       "\n",
       "[277 rows x 6 columns]"
      ]
     },
     "execution_count": 79,
     "metadata": {},
     "output_type": "execute_result"
    }
   ],
   "source": [
    "table_name = 'trading_data'\n",
    "query = f\"SELECT * FROM {table_name}\"\n",
    "df = pd.read_sql_query(query, conn)\n",
    "df.replace('null', pd.NA, inplace = True)\n",
    "df.dropna(inplace = True)\n",
    "df"
   ]
  },
  {
   "cell_type": "markdown",
   "metadata": {},
   "source": [
    "read database as pandas dataframe using a select all query then drop null values.\n",
    "display dataframe."
   ]
  },
  {
   "cell_type": "code",
   "execution_count": 80,
   "metadata": {},
   "outputs": [
    {
     "data": {
      "text/html": [
       "<div>\n",
       "<style scoped>\n",
       "    .dataframe tbody tr th:only-of-type {\n",
       "        vertical-align: middle;\n",
       "    }\n",
       "\n",
       "    .dataframe tbody tr th {\n",
       "        vertical-align: top;\n",
       "    }\n",
       "\n",
       "    .dataframe thead th {\n",
       "        text-align: right;\n",
       "    }\n",
       "</style>\n",
       "<table border=\"1\" class=\"dataframe\">\n",
       "  <thead>\n",
       "    <tr style=\"text-align: right;\">\n",
       "      <th></th>\n",
       "      <th>id</th>\n",
       "      <th>image_data</th>\n",
       "      <th>tradable</th>\n",
       "      <th>trend</th>\n",
       "      <th>phase</th>\n",
       "      <th>after</th>\n",
       "      <th>images</th>\n",
       "    </tr>\n",
       "  </thead>\n",
       "  <tbody>\n",
       "    <tr>\n",
       "      <th>0</th>\n",
       "      <td>5</td>\n",
       "      <td>b'\\x89PNG\\r\\n\\x1a\\n\\x00\\x00\\x00\\rIHDR\\x00\\x00\\...</td>\n",
       "      <td>yes</td>\n",
       "      <td>up</td>\n",
       "      <td>pullback</td>\n",
       "      <td>continues pull back</td>\n",
       "      <td>[[[255, 255, 255], [255, 255, 255], [255, 255,...</td>\n",
       "    </tr>\n",
       "    <tr>\n",
       "      <th>1</th>\n",
       "      <td>6</td>\n",
       "      <td>b'\\x89PNG\\r\\n\\x1a\\n\\x00\\x00\\x00\\rIHDR\\x00\\x00\\...</td>\n",
       "      <td>yes</td>\n",
       "      <td>down</td>\n",
       "      <td>pullback</td>\n",
       "      <td>continues trend</td>\n",
       "      <td>[[[255, 255, 255], [255, 255, 255], [255, 255,...</td>\n",
       "    </tr>\n",
       "    <tr>\n",
       "      <th>2</th>\n",
       "      <td>7</td>\n",
       "      <td>b'\\x89PNG\\r\\n\\x1a\\n\\x00\\x00\\x00\\rIHDR\\x00\\x00\\...</td>\n",
       "      <td>yes</td>\n",
       "      <td>down</td>\n",
       "      <td>pullback</td>\n",
       "      <td>breaks structure and reverses</td>\n",
       "      <td>[[[255, 255, 255], [255, 255, 255], [255, 255,...</td>\n",
       "    </tr>\n",
       "    <tr>\n",
       "      <th>3</th>\n",
       "      <td>8</td>\n",
       "      <td>b'\\x89PNG\\r\\n\\x1a\\n\\x00\\x00\\x00\\rIHDR\\x00\\x00\\...</td>\n",
       "      <td>yes</td>\n",
       "      <td>down</td>\n",
       "      <td>consolidation</td>\n",
       "      <td>continues trend</td>\n",
       "      <td>[[[255, 255, 255], [255, 255, 255], [255, 255,...</td>\n",
       "    </tr>\n",
       "    <tr>\n",
       "      <th>4</th>\n",
       "      <td>9</td>\n",
       "      <td>b'\\x89PNG\\r\\n\\x1a\\n\\x00\\x00\\x00\\rIHDR\\x00\\x00\\...</td>\n",
       "      <td>yes</td>\n",
       "      <td>down</td>\n",
       "      <td>pullback</td>\n",
       "      <td>continues trend</td>\n",
       "      <td>[[[255, 255, 255], [255, 255, 255], [255, 255,...</td>\n",
       "    </tr>\n",
       "    <tr>\n",
       "      <th>...</th>\n",
       "      <td>...</td>\n",
       "      <td>...</td>\n",
       "      <td>...</td>\n",
       "      <td>...</td>\n",
       "      <td>...</td>\n",
       "      <td>...</td>\n",
       "      <td>...</td>\n",
       "    </tr>\n",
       "    <tr>\n",
       "      <th>295</th>\n",
       "      <td>300</td>\n",
       "      <td>b'\\x89PNG\\r\\n\\x1a\\n\\x00\\x00\\x00\\rIHDR\\x00\\x00\\...</td>\n",
       "      <td>yes</td>\n",
       "      <td>down</td>\n",
       "      <td>pullback</td>\n",
       "      <td>consolidates/no trend</td>\n",
       "      <td>[[[255, 255, 255], [255, 255, 255], [255, 255,...</td>\n",
       "    </tr>\n",
       "    <tr>\n",
       "      <th>297</th>\n",
       "      <td>302</td>\n",
       "      <td>b'\\x89PNG\\r\\n\\x1a\\n\\x00\\x00\\x00\\rIHDR\\x00\\x00\\...</td>\n",
       "      <td>yes</td>\n",
       "      <td>down</td>\n",
       "      <td>consolidation</td>\n",
       "      <td>breaks structure and reverses</td>\n",
       "      <td>[[[255, 255, 255], [255, 255, 255], [255, 255,...</td>\n",
       "    </tr>\n",
       "    <tr>\n",
       "      <th>298</th>\n",
       "      <td>303</td>\n",
       "      <td>b'\\x89PNG\\r\\n\\x1a\\n\\x00\\x00\\x00\\rIHDR\\x00\\x00\\...</td>\n",
       "      <td>yes</td>\n",
       "      <td>up</td>\n",
       "      <td>pullback</td>\n",
       "      <td>continues pull back</td>\n",
       "      <td>[[[255, 255, 255], [255, 255, 255], [255, 255,...</td>\n",
       "    </tr>\n",
       "    <tr>\n",
       "      <th>299</th>\n",
       "      <td>304</td>\n",
       "      <td>b'\\x89PNG\\r\\n\\x1a\\n\\x00\\x00\\x00\\rIHDR\\x00\\x00\\...</td>\n",
       "      <td>yes</td>\n",
       "      <td>down</td>\n",
       "      <td>pullback</td>\n",
       "      <td>continues trend</td>\n",
       "      <td>[[[255, 255, 255], [255, 255, 255], [255, 255,...</td>\n",
       "    </tr>\n",
       "    <tr>\n",
       "      <th>300</th>\n",
       "      <td>305</td>\n",
       "      <td>b'\\x89PNG\\r\\n\\x1a\\n\\x00\\x00\\x00\\rIHDR\\x00\\x00\\...</td>\n",
       "      <td>yes</td>\n",
       "      <td>down</td>\n",
       "      <td>consolidation</td>\n",
       "      <td>continues trend</td>\n",
       "      <td>[[[255, 255, 255], [255, 255, 255], [255, 255,...</td>\n",
       "    </tr>\n",
       "  </tbody>\n",
       "</table>\n",
       "<p>277 rows × 7 columns</p>\n",
       "</div>"
      ],
      "text/plain": [
       "      id                                         image_data tradable trend  \\\n",
       "0      5  b'\\x89PNG\\r\\n\\x1a\\n\\x00\\x00\\x00\\rIHDR\\x00\\x00\\...      yes    up   \n",
       "1      6  b'\\x89PNG\\r\\n\\x1a\\n\\x00\\x00\\x00\\rIHDR\\x00\\x00\\...      yes  down   \n",
       "2      7  b'\\x89PNG\\r\\n\\x1a\\n\\x00\\x00\\x00\\rIHDR\\x00\\x00\\...      yes  down   \n",
       "3      8  b'\\x89PNG\\r\\n\\x1a\\n\\x00\\x00\\x00\\rIHDR\\x00\\x00\\...      yes  down   \n",
       "4      9  b'\\x89PNG\\r\\n\\x1a\\n\\x00\\x00\\x00\\rIHDR\\x00\\x00\\...      yes  down   \n",
       "..   ...                                                ...      ...   ...   \n",
       "295  300  b'\\x89PNG\\r\\n\\x1a\\n\\x00\\x00\\x00\\rIHDR\\x00\\x00\\...      yes  down   \n",
       "297  302  b'\\x89PNG\\r\\n\\x1a\\n\\x00\\x00\\x00\\rIHDR\\x00\\x00\\...      yes  down   \n",
       "298  303  b'\\x89PNG\\r\\n\\x1a\\n\\x00\\x00\\x00\\rIHDR\\x00\\x00\\...      yes    up   \n",
       "299  304  b'\\x89PNG\\r\\n\\x1a\\n\\x00\\x00\\x00\\rIHDR\\x00\\x00\\...      yes  down   \n",
       "300  305  b'\\x89PNG\\r\\n\\x1a\\n\\x00\\x00\\x00\\rIHDR\\x00\\x00\\...      yes  down   \n",
       "\n",
       "             phase                          after  \\\n",
       "0         pullback            continues pull back   \n",
       "1         pullback                continues trend   \n",
       "2         pullback  breaks structure and reverses   \n",
       "3    consolidation                continues trend   \n",
       "4         pullback                continues trend   \n",
       "..             ...                            ...   \n",
       "295       pullback          consolidates/no trend   \n",
       "297  consolidation  breaks structure and reverses   \n",
       "298       pullback            continues pull back   \n",
       "299       pullback                continues trend   \n",
       "300  consolidation                continues trend   \n",
       "\n",
       "                                                images  \n",
       "0    [[[255, 255, 255], [255, 255, 255], [255, 255,...  \n",
       "1    [[[255, 255, 255], [255, 255, 255], [255, 255,...  \n",
       "2    [[[255, 255, 255], [255, 255, 255], [255, 255,...  \n",
       "3    [[[255, 255, 255], [255, 255, 255], [255, 255,...  \n",
       "4    [[[255, 255, 255], [255, 255, 255], [255, 255,...  \n",
       "..                                                 ...  \n",
       "295  [[[255, 255, 255], [255, 255, 255], [255, 255,...  \n",
       "297  [[[255, 255, 255], [255, 255, 255], [255, 255,...  \n",
       "298  [[[255, 255, 255], [255, 255, 255], [255, 255,...  \n",
       "299  [[[255, 255, 255], [255, 255, 255], [255, 255,...  \n",
       "300  [[[255, 255, 255], [255, 255, 255], [255, 255,...  \n",
       "\n",
       "[277 rows x 7 columns]"
      ]
     },
     "execution_count": 80,
     "metadata": {},
     "output_type": "execute_result"
    }
   ],
   "source": [
    "def blob_to_image(blob):\n",
    "    return np.array(Image.open(BytesIO(blob)))\n",
    "\n",
    "df['images'] = df['image_data'].apply(blob_to_image)\n",
    "df"
   ]
  },
  {
   "cell_type": "markdown",
   "metadata": {},
   "source": [
    "convert BLOB into a np array image representation as a new column\n",
    "Confrim that the new column with right data is present"
   ]
  },
  {
   "cell_type": "code",
   "execution_count": 81,
   "metadata": {},
   "outputs": [],
   "source": [
    "images = np.array(df['images'])\n",
    "labels = df[['trend', 'phase', 'after']].values"
   ]
  },
  {
   "cell_type": "markdown",
   "metadata": {},
   "source": [
    "create two numpy arrays consisting of the labels and the image"
   ]
  },
  {
   "cell_type": "code",
   "execution_count": 82,
   "metadata": {},
   "outputs": [
    {
     "name": "stdout",
     "output_type": "stream",
     "text": [
      "[[[255 255 255]\n",
      "  [255 255 255]\n",
      "  [255 255 255]\n",
      "  ...\n",
      "  [255 255 255]\n",
      "  [255 255 255]\n",
      "  [255 255 255]]\n",
      "\n",
      " [[224 227 235]\n",
      "  [224 227 235]\n",
      "  [224 227 235]\n",
      "  ...\n",
      "  [175 178 187]\n",
      "  [175 178 187]\n",
      "  [175 178 187]]\n",
      "\n",
      " [[224 227 235]\n",
      "  [224 227 235]\n",
      "  [224 227 235]\n",
      "  ...\n",
      "  [184 187 196]\n",
      "  [184 187 196]\n",
      "  [184 187 196]]\n",
      "\n",
      " ...\n",
      "\n",
      " [[224 227 235]\n",
      "  [224 227 235]\n",
      "  [224 227 235]\n",
      "  ...\n",
      "  [233 233 233]\n",
      "  [233 233 233]\n",
      "  [233 233 233]]\n",
      "\n",
      " [[224 227 235]\n",
      "  [224 227 235]\n",
      "  [224 227 235]\n",
      "  ...\n",
      "  [233 233 233]\n",
      "  [233 233 233]\n",
      "  [233 233 233]]\n",
      "\n",
      " [[224 227 235]\n",
      "  [224 227 235]\n",
      "  [224 227 235]\n",
      "  ...\n",
      "  [233 233 233]\n",
      "  [233 233 233]\n",
      "  [233 233 233]]]\n",
      "['up' 'pullback' 'continues pull back']\n"
     ]
    }
   ],
   "source": [
    "print(images[0])\n",
    "print(labels[0])"
   ]
  },
  {
   "cell_type": "markdown",
   "metadata": {},
   "source": [
    "confirm the contents of the numpy array are correctly pulled from the dataframe"
   ]
  },
  {
   "cell_type": "code",
   "execution_count": 83,
   "metadata": {},
   "outputs": [
    {
     "data": {
      "text/plain": [
       "<matplotlib.image.AxesImage at 0x269f015ffd0>"
      ]
     },
     "execution_count": 83,
     "metadata": {},
     "output_type": "execute_result"
    },
    {
     "data": {
      "image/png": "[encoded data removed]",
      "text/plain": [
       "<Figure size 432x288 with 1 Axes>"
      ]
     },
     "metadata": {
      "needs_background": "light"
     },
     "output_type": "display_data"
    }
   ],
   "source": [
    "sample_image = images[0]\n",
    "plt.imshow(sample_image)"
   ]
  },
  {
   "cell_type": "markdown",
   "metadata": {},
   "source": [
    "confirm that the numpy array representation of the image converted from a BLOB was correctly pulled\n",
    "from the dataframe into the numpy array."
   ]
  },
  {
   "cell_type": "code",
   "execution_count": 93,
   "metadata": {},
   "outputs": [],
   "source": [
    "X_train, X_test, y_train, y_test = train_test_split(images, labels, test_size = 0.2, random_state = 42)"
   ]
  },
  {
   "cell_type": "markdown",
   "metadata": {},
   "source": [
    "split the dataset into 80% training while 20% is used for testing"
   ]
  },
  {
   "cell_type": "code",
   "execution_count": 96,
   "metadata": {},
   "outputs": [],
   "source": [
    "\n",
    "X_train = X_train / 255.0\n",
    "X_test = X_test / 255.0"
   ]
  },
  {
   "cell_type": "markdown",
   "metadata": {},
   "source": [
    "normalize the pixel values by dividing by 255."
   ]
  },
  {
   "cell_type": "code",
   "execution_count": 97,
   "metadata": {},
   "outputs": [],
   "source": [
    "model = tf.keras.Sequential()\n",
    "model.add(tf.keras.layers.Conv2D(32, (3,3), activation = 'relu', input_shape = (1030, 721, 3)))"
   ]
  }
 ],
 "metadata": {
  "kernelspec": {
   "display_name": "Python 3",
   "language": "python",
   "name": "python3"
  },
  "language_info": {
   "codemirror_mode": {
    "name": "ipython",
    "version": 3
   },
   "file_extension": ".py",
   "mimetype": "text/x-python",
   "name": "python",
   "nbconvert_exporter": "python",
   "pygments_lexer": "ipython3",
   "version": "3.10.4"
  }
 },
 "nbformat": 4,
 "nbformat_minor": 2
}
